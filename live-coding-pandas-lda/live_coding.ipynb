{
 "cells": [
  {
   "cell_type": "code",
   "execution_count": 1,
   "metadata": {
    "collapsed": true
   },
   "outputs": [],
   "source": [
    "import pandas as pd\n",
    "import numpy as np\n",
    "import matplotlib.pyplot as plt\n",
    "%matplotlib inline\n",
    "\n",
    "plt.style.use('ggplot')"
   ]
  },
  {
   "cell_type": "markdown",
   "metadata": {},
   "source": [
    "## Read in Our Data\n",
    "\n",
    "The first step is to read out data into a `pandas` DataFrame.  For an intro to using `pandas` I would highly suggest looking though [this 10 minute guide to `pandas`](http://pandas.pydata.org/pandas-docs/stable/10min.html)."
   ]
  },
  {
   "cell_type": "code",
   "execution_count": 2,
   "metadata": {
    "collapsed": true
   },
   "outputs": [],
   "source": [
    "df = pd.read_csv('npr_articles.csv')"
   ]
  },
  {
   "cell_type": "markdown",
   "metadata": {},
   "source": [
    "We can now checkout what our data consists of by using the `.head()` method on our DataFrame.  By default, this will show the top 5 rows."
   ]
  },
  {
   "cell_type": "code",
   "execution_count": 3,
   "metadata": {
    "collapsed": false
   },
   "outputs": [
    {
     "data": {
      "text/html": [
       "<div>\n",
       "<table border=\"1\" class=\"dataframe\">\n",
       "  <thead>\n",
       "    <tr style=\"text-align: right;\">\n",
       "      <th></th>\n",
       "      <th>article_text</th>\n",
       "      <th>author</th>\n",
       "      <th>date_published</th>\n",
       "      <th>headline</th>\n",
       "      <th>section</th>\n",
       "      <th>url</th>\n",
       "      <th>processed_text</th>\n",
       "    </tr>\n",
       "  </thead>\n",
       "  <tbody>\n",
       "    <tr>\n",
       "      <th>0</th>\n",
       "      <td>Birdsong is music to human ears. It has inspir...</td>\n",
       "      <td>['Barbara J. King']</td>\n",
       "      <td>2016-12-01 09:30:00</td>\n",
       "      <td>What Do Birds Hear When They Sing Beautiful So...</td>\n",
       "      <td>13.7: Cosmos And Culture</td>\n",
       "      <td>http://www.npr.org/sections/13.7/2016/12/01/50...</td>\n",
       "      <td>birdsong music human ear inspire famous compos...</td>\n",
       "    </tr>\n",
       "    <tr>\n",
       "      <th>1</th>\n",
       "      <td>Two months after Colombian voters narrowly rej...</td>\n",
       "      <td>['Mark Katkov']</td>\n",
       "      <td>2016-12-01 11:57:00</td>\n",
       "      <td>Colombia's Congress Ratifies Second Peace Deal...</td>\n",
       "      <td>The Two-Way</td>\n",
       "      <td>http://www.npr.org/sections/thetwo-way/2016/12...</td>\n",
       "      <td>two_months colombian voter narrowly reject pea...</td>\n",
       "    </tr>\n",
       "    <tr>\n",
       "      <th>2</th>\n",
       "      <td>On a hillside overlooking the steppes of north...</td>\n",
       "      <td>['Rob Schmitz']</td>\n",
       "      <td>2016-12-01 12:50:00</td>\n",
       "      <td>Amid Economic Crisis, Mongolians Risk Their Li...</td>\n",
       "      <td>Parallels</td>\n",
       "      <td>http://www.npr.org/sections/parallels/2016/12/...</td>\n",
       "      <td>hillside overlook steppe northeastern mongolia...</td>\n",
       "    </tr>\n",
       "    <tr>\n",
       "      <th>3</th>\n",
       "      <td>When I last visited Damascus in 2008, the hist...</td>\n",
       "      <td>['Peter Kenyon']</td>\n",
       "      <td>2016-12-01 12:50:00</td>\n",
       "      <td>Returning To Damascus, A City Changed By War</td>\n",
       "      <td>Parallels</td>\n",
       "      <td>http://www.npr.org/sections/parallels/2016/12/...</td>\n",
       "      <td>visit damascus historic old_city district west...</td>\n",
       "    </tr>\n",
       "    <tr>\n",
       "      <th>4</th>\n",
       "      <td>Boston's official 2016 Christmas tree, like ot...</td>\n",
       "      <td>['Edgar B. Herwick III']</td>\n",
       "      <td>2016-12-01 13:16:00</td>\n",
       "      <td>Boston's Christmas Tree Tradition Rooted In A ...</td>\n",
       "      <td>Around the Nation</td>\n",
       "      <td>http://www.npr.org/2016/12/01/503907535/boston...</td>\n",
       "      <td>boston official christmas tree come thank gift...</td>\n",
       "    </tr>\n",
       "  </tbody>\n",
       "</table>\n",
       "</div>"
      ],
      "text/plain": [
       "                                        article_text  \\\n",
       "0  Birdsong is music to human ears. It has inspir...   \n",
       "1  Two months after Colombian voters narrowly rej...   \n",
       "2  On a hillside overlooking the steppes of north...   \n",
       "3  When I last visited Damascus in 2008, the hist...   \n",
       "4  Boston's official 2016 Christmas tree, like ot...   \n",
       "\n",
       "                     author       date_published  \\\n",
       "0       ['Barbara J. King']  2016-12-01 09:30:00   \n",
       "1           ['Mark Katkov']  2016-12-01 11:57:00   \n",
       "2           ['Rob Schmitz']  2016-12-01 12:50:00   \n",
       "3          ['Peter Kenyon']  2016-12-01 12:50:00   \n",
       "4  ['Edgar B. Herwick III']  2016-12-01 13:16:00   \n",
       "\n",
       "                                            headline  \\\n",
       "0  What Do Birds Hear When They Sing Beautiful So...   \n",
       "1  Colombia's Congress Ratifies Second Peace Deal...   \n",
       "2  Amid Economic Crisis, Mongolians Risk Their Li...   \n",
       "3       Returning To Damascus, A City Changed By War   \n",
       "4  Boston's Christmas Tree Tradition Rooted In A ...   \n",
       "\n",
       "                    section  \\\n",
       "0  13.7: Cosmos And Culture   \n",
       "1               The Two-Way   \n",
       "2                 Parallels   \n",
       "3                 Parallels   \n",
       "4         Around the Nation   \n",
       "\n",
       "                                                 url  \\\n",
       "0  http://www.npr.org/sections/13.7/2016/12/01/50...   \n",
       "1  http://www.npr.org/sections/thetwo-way/2016/12...   \n",
       "2  http://www.npr.org/sections/parallels/2016/12/...   \n",
       "3  http://www.npr.org/sections/parallels/2016/12/...   \n",
       "4  http://www.npr.org/2016/12/01/503907535/boston...   \n",
       "\n",
       "                                      processed_text  \n",
       "0  birdsong music human ear inspire famous compos...  \n",
       "1  two_months colombian voter narrowly reject pea...  \n",
       "2  hillside overlook steppe northeastern mongolia...  \n",
       "3  visit damascus historic old_city district west...  \n",
       "4  boston official christmas tree come thank gift...  "
      ]
     },
     "execution_count": 3,
     "metadata": {},
     "output_type": "execute_result"
    }
   ],
   "source": [
    "df.head()"
   ]
  },
  {
   "cell_type": "markdown",
   "metadata": {},
   "source": [
    "One of the first steps you should take is to get an overview of what kind of data we have but running the `.info()` method.  Please [see the documentation](http://pandas.pydata.org/pandas-docs/stable/generated/pandas.DataFrame.info.html) for more info (no pun intended)."
   ]
  },
  {
   "cell_type": "code",
   "execution_count": 4,
   "metadata": {
    "collapsed": false
   },
   "outputs": [
    {
     "name": "stdout",
     "output_type": "stream",
     "text": [
      "<class 'pandas.core.frame.DataFrame'>\n",
      "RangeIndex: 2275 entries, 0 to 2274\n",
      "Data columns (total 7 columns):\n",
      "article_text      2275 non-null object\n",
      "author            1708 non-null object\n",
      "date_published    2275 non-null object\n",
      "headline          2275 non-null object\n",
      "section           2267 non-null object\n",
      "url               2275 non-null object\n",
      "processed_text    2275 non-null object\n",
      "dtypes: object(7)\n",
      "memory usage: 124.5+ KB\n"
     ]
    }
   ],
   "source": [
    "df.info()"
   ]
  },
  {
   "cell_type": "markdown",
   "metadata": {},
   "source": [
    "We can see that the column `date_published` is being interpreted as an `object` and not a datetime.  Let's change that by using the [`pandas.to_datetime()` function](http://pandas.pydata.org/pandas-docs/version/0.19.2/generated/pandas.to_datetime.html)."
   ]
  },
  {
   "cell_type": "code",
   "execution_count": 5,
   "metadata": {
    "collapsed": true
   },
   "outputs": [],
   "source": [
    "df['date_published'] = pd.to_datetime(df['date_published'])"
   ]
  },
  {
   "cell_type": "code",
   "execution_count": 6,
   "metadata": {
    "collapsed": false
   },
   "outputs": [
    {
     "name": "stdout",
     "output_type": "stream",
     "text": [
      "<class 'pandas.core.frame.DataFrame'>\n",
      "RangeIndex: 2275 entries, 0 to 2274\n",
      "Data columns (total 7 columns):\n",
      "article_text      2275 non-null object\n",
      "author            1708 non-null object\n",
      "date_published    2275 non-null datetime64[ns]\n",
      "headline          2275 non-null object\n",
      "section           2267 non-null object\n",
      "url               2275 non-null object\n",
      "processed_text    2275 non-null object\n",
      "dtypes: datetime64[ns](1), object(6)\n",
      "memory usage: 124.5+ KB\n"
     ]
    }
   ],
   "source": [
    "df.info()"
   ]
  },
  {
   "cell_type": "markdown",
   "metadata": {},
   "source": [
    "## Number of Authors \n",
    "\n",
    "Let's say we wanted to add in another column that contains the number of authors that worked on a particular article.  We could do this like so:"
   ]
  },
  {
   "cell_type": "code",
   "execution_count": 7,
   "metadata": {
    "collapsed": true
   },
   "outputs": [],
   "source": [
    "# Let's create a mask for all rows that have a non-null value\n",
    "mask = df['author'].notnull()\n",
    "\n",
    "# When the data was saved to a csv, these lists were converted into strings, we can convert\n",
    "# them back like so\n",
    "from ast import literal_eval\n",
    "df.loc[mask, 'author'] = df.loc[mask, 'author'].map(literal_eval)\n",
    "\n",
    "# Initialize column with NaN's and then fill in the respective values\n",
    "df['num_authors'] = np.nan\n",
    "df.loc[mask, 'num_authors'] = df.loc[mask, 'author'].map(len)"
   ]
  },
  {
   "cell_type": "markdown",
   "metadata": {},
   "source": [
    "We can now take a look at the summary statistics of any numeric columns by running the `.describe()` method. "
   ]
  },
  {
   "cell_type": "code",
   "execution_count": 8,
   "metadata": {
    "collapsed": false
   },
   "outputs": [
    {
     "name": "stderr",
     "output_type": "stream",
     "text": [
      "/home/ubuntu/anaconda3/lib/python3.5/site-packages/numpy/lib/function_base.py:4269: RuntimeWarning: Invalid value encountered in percentile\n",
      "  interpolation=interpolation)\n"
     ]
    },
    {
     "data": {
      "text/html": [
       "<div>\n",
       "<table border=\"1\" class=\"dataframe\">\n",
       "  <thead>\n",
       "    <tr style=\"text-align: right;\">\n",
       "      <th></th>\n",
       "      <th>num_authors</th>\n",
       "    </tr>\n",
       "  </thead>\n",
       "  <tbody>\n",
       "    <tr>\n",
       "      <th>count</th>\n",
       "      <td>1708.000000</td>\n",
       "    </tr>\n",
       "    <tr>\n",
       "      <th>mean</th>\n",
       "      <td>1.055035</td>\n",
       "    </tr>\n",
       "    <tr>\n",
       "      <th>std</th>\n",
       "      <td>0.285180</td>\n",
       "    </tr>\n",
       "    <tr>\n",
       "      <th>min</th>\n",
       "      <td>1.000000</td>\n",
       "    </tr>\n",
       "    <tr>\n",
       "      <th>25%</th>\n",
       "      <td>NaN</td>\n",
       "    </tr>\n",
       "    <tr>\n",
       "      <th>50%</th>\n",
       "      <td>NaN</td>\n",
       "    </tr>\n",
       "    <tr>\n",
       "      <th>75%</th>\n",
       "      <td>NaN</td>\n",
       "    </tr>\n",
       "    <tr>\n",
       "      <th>max</th>\n",
       "      <td>6.000000</td>\n",
       "    </tr>\n",
       "  </tbody>\n",
       "</table>\n",
       "</div>"
      ],
      "text/plain": [
       "       num_authors\n",
       "count  1708.000000\n",
       "mean      1.055035\n",
       "std       0.285180\n",
       "min       1.000000\n",
       "25%            NaN\n",
       "50%            NaN\n",
       "75%            NaN\n",
       "max       6.000000"
      ]
     },
     "execution_count": 8,
     "metadata": {},
     "output_type": "execute_result"
    }
   ],
   "source": [
    "df.describe()"
   ]
  },
  {
   "cell_type": "code",
   "execution_count": 9,
   "metadata": {
    "collapsed": false
   },
   "outputs": [
    {
     "data": {
      "text/html": [
       "<div>\n",
       "<table border=\"1\" class=\"dataframe\">\n",
       "  <thead>\n",
       "    <tr style=\"text-align: right;\">\n",
       "      <th></th>\n",
       "      <th>article_text</th>\n",
       "      <th>author</th>\n",
       "      <th>date_published</th>\n",
       "      <th>headline</th>\n",
       "      <th>section</th>\n",
       "      <th>url</th>\n",
       "      <th>processed_text</th>\n",
       "      <th>num_authors</th>\n",
       "    </tr>\n",
       "  </thead>\n",
       "  <tbody>\n",
       "    <tr>\n",
       "      <th>0</th>\n",
       "      <td>Birdsong is music to human ears. It has inspir...</td>\n",
       "      <td>[Barbara J. King]</td>\n",
       "      <td>2016-12-01 09:30:00</td>\n",
       "      <td>What Do Birds Hear When They Sing Beautiful So...</td>\n",
       "      <td>13.7: Cosmos And Culture</td>\n",
       "      <td>http://www.npr.org/sections/13.7/2016/12/01/50...</td>\n",
       "      <td>birdsong music human ear inspire famous compos...</td>\n",
       "      <td>1.0</td>\n",
       "    </tr>\n",
       "    <tr>\n",
       "      <th>1</th>\n",
       "      <td>Two months after Colombian voters narrowly rej...</td>\n",
       "      <td>[Mark Katkov]</td>\n",
       "      <td>2016-12-01 11:57:00</td>\n",
       "      <td>Colombia's Congress Ratifies Second Peace Deal...</td>\n",
       "      <td>The Two-Way</td>\n",
       "      <td>http://www.npr.org/sections/thetwo-way/2016/12...</td>\n",
       "      <td>two_months colombian voter narrowly reject pea...</td>\n",
       "      <td>1.0</td>\n",
       "    </tr>\n",
       "    <tr>\n",
       "      <th>2</th>\n",
       "      <td>On a hillside overlooking the steppes of north...</td>\n",
       "      <td>[Rob Schmitz]</td>\n",
       "      <td>2016-12-01 12:50:00</td>\n",
       "      <td>Amid Economic Crisis, Mongolians Risk Their Li...</td>\n",
       "      <td>Parallels</td>\n",
       "      <td>http://www.npr.org/sections/parallels/2016/12/...</td>\n",
       "      <td>hillside overlook steppe northeastern mongolia...</td>\n",
       "      <td>1.0</td>\n",
       "    </tr>\n",
       "    <tr>\n",
       "      <th>3</th>\n",
       "      <td>When I last visited Damascus in 2008, the hist...</td>\n",
       "      <td>[Peter Kenyon]</td>\n",
       "      <td>2016-12-01 12:50:00</td>\n",
       "      <td>Returning To Damascus, A City Changed By War</td>\n",
       "      <td>Parallels</td>\n",
       "      <td>http://www.npr.org/sections/parallels/2016/12/...</td>\n",
       "      <td>visit damascus historic old_city district west...</td>\n",
       "      <td>1.0</td>\n",
       "    </tr>\n",
       "    <tr>\n",
       "      <th>4</th>\n",
       "      <td>Boston's official 2016 Christmas tree, like ot...</td>\n",
       "      <td>[Edgar B. Herwick III]</td>\n",
       "      <td>2016-12-01 13:16:00</td>\n",
       "      <td>Boston's Christmas Tree Tradition Rooted In A ...</td>\n",
       "      <td>Around the Nation</td>\n",
       "      <td>http://www.npr.org/2016/12/01/503907535/boston...</td>\n",
       "      <td>boston official christmas tree come thank gift...</td>\n",
       "      <td>1.0</td>\n",
       "    </tr>\n",
       "  </tbody>\n",
       "</table>\n",
       "</div>"
      ],
      "text/plain": [
       "                                        article_text                  author  \\\n",
       "0  Birdsong is music to human ears. It has inspir...       [Barbara J. King]   \n",
       "1  Two months after Colombian voters narrowly rej...           [Mark Katkov]   \n",
       "2  On a hillside overlooking the steppes of north...           [Rob Schmitz]   \n",
       "3  When I last visited Damascus in 2008, the hist...          [Peter Kenyon]   \n",
       "4  Boston's official 2016 Christmas tree, like ot...  [Edgar B. Herwick III]   \n",
       "\n",
       "       date_published                                           headline  \\\n",
       "0 2016-12-01 09:30:00  What Do Birds Hear When They Sing Beautiful So...   \n",
       "1 2016-12-01 11:57:00  Colombia's Congress Ratifies Second Peace Deal...   \n",
       "2 2016-12-01 12:50:00  Amid Economic Crisis, Mongolians Risk Their Li...   \n",
       "3 2016-12-01 12:50:00       Returning To Damascus, A City Changed By War   \n",
       "4 2016-12-01 13:16:00  Boston's Christmas Tree Tradition Rooted In A ...   \n",
       "\n",
       "                    section  \\\n",
       "0  13.7: Cosmos And Culture   \n",
       "1               The Two-Way   \n",
       "2                 Parallels   \n",
       "3                 Parallels   \n",
       "4         Around the Nation   \n",
       "\n",
       "                                                 url  \\\n",
       "0  http://www.npr.org/sections/13.7/2016/12/01/50...   \n",
       "1  http://www.npr.org/sections/thetwo-way/2016/12...   \n",
       "2  http://www.npr.org/sections/parallels/2016/12/...   \n",
       "3  http://www.npr.org/sections/parallels/2016/12/...   \n",
       "4  http://www.npr.org/2016/12/01/503907535/boston...   \n",
       "\n",
       "                                      processed_text  num_authors  \n",
       "0  birdsong music human ear inspire famous compos...          1.0  \n",
       "1  two_months colombian voter narrowly reject pea...          1.0  \n",
       "2  hillside overlook steppe northeastern mongolia...          1.0  \n",
       "3  visit damascus historic old_city district west...          1.0  \n",
       "4  boston official christmas tree come thank gift...          1.0  "
      ]
     },
     "execution_count": 9,
     "metadata": {},
     "output_type": "execute_result"
    }
   ],
   "source": [
    "df.head()"
   ]
  },
  {
   "cell_type": "markdown",
   "metadata": {},
   "source": [
    "## Number of Unique Authors\n",
    "\n",
    "Let's say we wanted to get the number of unique authors that are represented in this dataframe.  We could potentially use `df['author'].nunique()` but we are going to run into an error because each row contains a `list` which isn't hashable.\n",
    "\n",
    "Instead we could loop through each value and extend a set like so:"
   ]
  },
  {
   "cell_type": "code",
   "execution_count": 10,
   "metadata": {
    "collapsed": false
   },
   "outputs": [
    {
     "name": "stdout",
     "output_type": "stream",
     "text": [
      "451\n"
     ]
    }
   ],
   "source": [
    "# Create a set to hold our authors\n",
    "authors = set()\n",
    "for lst in df.loc[mask, 'author']:\n",
    "    # For every row, update the authors set with those contained in that row\n",
    "    authors.update(lst)\n",
    "# Print out the total authors seen\n",
    "print(len(authors))"
   ]
  },
  {
   "cell_type": "markdown",
   "metadata": {},
   "source": [
    "If we also wanted the number of times a particular author was involved in writing an article we could leverage the power of `Counter`'s from the `collections` library.  Refer to the [documentation](https://docs.python.org/2/library/collections.html) for more information."
   ]
  },
  {
   "cell_type": "code",
   "execution_count": 11,
   "metadata": {
    "collapsed": true
   },
   "outputs": [],
   "source": [
    "from collections import Counter\n",
    "authors = df.loc[mask, 'author'].map(Counter).sum()"
   ]
  },
  {
   "cell_type": "code",
   "execution_count": 12,
   "metadata": {
    "collapsed": false
   },
   "outputs": [
    {
     "data": {
      "text/plain": [
       "Counter({'Aarti Shahani': 3,\n",
       "         'Adam Cole': 2,\n",
       "         'Adam Frank': 5,\n",
       "         'Adrian Florido': 3,\n",
       "         'Agerenesh Ashagre': 1,\n",
       "         'Ailsa Chang': 3,\n",
       "         'Aki Peritz': 2,\n",
       "         'Alan Greenblatt': 1,\n",
       "         'Alan Yu': 5,\n",
       "         'Alejandra Maria Salazar': 1,\n",
       "         'Alex Ariff': 1,\n",
       "         'Alex Cohen': 1,\n",
       "         'Alex Zaragoza': 1,\n",
       "         'Alexandra Olgin': 1,\n",
       "         'Alexandria Lee': 4,\n",
       "         'Alexi Horowitz-Ghazi': 1,\n",
       "         'Alice Fordham': 4,\n",
       "         'Alina Selyukh': 8,\n",
       "         'Alison Fensterstock': 2,\n",
       "         'Alison Kodjak': 9,\n",
       "         'Alison Meuse': 2,\n",
       "         'Alison Richards': 1,\n",
       "         'Allison Aubrey': 5,\n",
       "         'Alva Noë': 5,\n",
       "         'Alyssa Edes': 1,\n",
       "         'Amal El-Mohtar': 2,\n",
       "         'Ammad Omar': 5,\n",
       "         'Amy E. Robertson': 1,\n",
       "         'Amy Sisk': 1,\n",
       "         'An-Li Herring': 2,\n",
       "         'Anastasia Tsioulcas': 2,\n",
       "         'Andrew Lapin': 6,\n",
       "         'Andrew Limbong': 2,\n",
       "         'Angus Chen': 4,\n",
       "         'Ann Finkbeiner': 1,\n",
       "         'Ann Powers': 7,\n",
       "         'Anna Gorman': 2,\n",
       "         'Anna Marketti': 3,\n",
       "         'Anna Mazarakis': 1,\n",
       "         'Annalisa Quinn': 1,\n",
       "         'Annie Ropeik': 1,\n",
       "         'Annie Tomlinson': 1,\n",
       "         'Anthony Kuhn': 4,\n",
       "         'Antonia Cereijido': 1,\n",
       "         'Anya Kamenetz': 6,\n",
       "         'Anya Sacharow': 1,\n",
       "         'Ari Shapiro': 3,\n",
       "         'Ariel Zambelich': 3,\n",
       "         'Arnie Seipel': 4,\n",
       "         'Ashley Westerman ': 2,\n",
       "         'Asma Khalid': 2,\n",
       "         'Audie Cornish': 1,\n",
       "         'Avie Schneider': 2,\n",
       "         'Barbara Campbell': 1,\n",
       "         'Barbara J. King': 6,\n",
       "         'Barry Walters': 2,\n",
       "         'Becky Harlan': 1,\n",
       "         'Ben Allen': 2,\n",
       "         'Ben Fishel': 2,\n",
       "         'Ben Schein': 1,\n",
       "         'Benjamin Naddaff-Hafrey': 2,\n",
       "         'Beth Novey': 1,\n",
       "         'Bill Chappell': 37,\n",
       "         'Bob Boilen': 22,\n",
       "         'Bob Mondello': 4,\n",
       "         'Bobby Carter': 3,\n",
       "         'Bonny Wolf': 1,\n",
       "         'Brakkton Booker': 10,\n",
       "         'Bram Sable-Smith, KBIA and Side Effects Public Media': 1,\n",
       "         'Brandie Jefferson': 1,\n",
       "         'Bret Stetka': 2,\n",
       "         'Brian Mann': 1,\n",
       "         'Brian Naylor': 20,\n",
       "         'Briana Younger': 1,\n",
       "         'Bruce Warren': 4,\n",
       "         'Cam Robert': 11,\n",
       "         'Camila Domonoske': 88,\n",
       "         'Carmen Heredia Rodriguez': 1,\n",
       "         'Carrie Johnson': 7,\n",
       "         'Carrie Jung': 1,\n",
       "         'Carrie Kahn': 1,\n",
       "         'Cassi Alexandra': 2,\n",
       "         'Cheryl Corley': 4,\n",
       "         'Chhavi Sachdev': 2,\n",
       "         'Chris Arnold': 3,\n",
       "         'Chris Benderev': 1,\n",
       "         'Chris Klimek': 4,\n",
       "         'Christopher Dean Hopkins': 5,\n",
       "         'Christopher Joyce': 5,\n",
       "         'Clare Leschin-Hoar': 1,\n",
       "         'Clarissa Wei': 1,\n",
       "         'Claudio Sanchez': 4,\n",
       "         'Colin Dwyer': 41,\n",
       "         'Cory Turner': 6,\n",
       "         'Craig LeMoult': 1,\n",
       "         'Dan Carsen': 1,\n",
       "         'Dan Charles': 9,\n",
       "         'Daniel Estrin': 4,\n",
       "         'Daniel Zwerdling': 3,\n",
       "         'Danielle Kurtzleben ': 15,\n",
       "         'Danielle Preiss': 1,\n",
       "         'Danny Hajek': 1,\n",
       "         'David Bianculli': 2,\n",
       "         'David Bodanis': 2,\n",
       "         'David Dye': 23,\n",
       "         'David Edelstein': 1,\n",
       "         'David Folkenflik': 6,\n",
       "         'David Greene': 3,\n",
       "         'David Grinspoon': 1,\n",
       "         'David Schaper': 2,\n",
       "         'David Sedaris': 1,\n",
       "         'David Welna': 2,\n",
       "         'Debbie Elliott': 2,\n",
       "         'Deborah Amos': 2,\n",
       "         'Deborah Shaar': 1,\n",
       "         'Deena Prichep': 2,\n",
       "         'Deepak Singh': 1,\n",
       "         'Dennis Ross': 1,\n",
       "         'Diane Cole': 2,\n",
       "         'Domenico Montanaro': 9,\n",
       "         'Don Gonyea': 5,\n",
       "         'Doreen McCallister': 8,\n",
       "         'Doug Mosurock': 1,\n",
       "         'Dustin DeSoto': 1,\n",
       "         'Edgar B. Herwick III': 1,\n",
       "         'Edward Mabaya': 1,\n",
       "         'Eleanor Beardsley': 6,\n",
       "         'Eleanor Klibanoff': 1,\n",
       "         'Elena See': 1,\n",
       "         'Elise Hu': 6,\n",
       "         'Elissa Nadworny ': 6,\n",
       "         'Elizabeth Blair': 2,\n",
       "         'Elizabeth Grossman': 1,\n",
       "         'Elizabeth Jensen': 3,\n",
       "         'Ella Taylor': 5,\n",
       "         'Ellen Wu': 1,\n",
       "         'Emily Bazar': 1,\n",
       "         'Emily Feng': 1,\n",
       "         'Emily Siner': 1,\n",
       "         'Emma Bowman': 4,\n",
       "         'Eric Deggans': 5,\n",
       "         'Eric Westervelt': 5,\n",
       "         'Eric Whitney': 1,\n",
       "         'Erin Ross': 5,\n",
       "         'Esther Landhuis': 1,\n",
       "         'Etelka Lehoczky': 2,\n",
       "         'Eyder Peralta': 5,\n",
       "         'Felix Contreras': 11,\n",
       "         'Francis Davis': 2,\n",
       "         'Frank Langfitt': 3,\n",
       "         'Frank Morris': 1,\n",
       "         'Frannie Kelley': 2,\n",
       "         'Fred Bever': 1,\n",
       "         'Fred Schulte': 1,\n",
       "         'Gabrielle Emanuel': 2,\n",
       "         'Gene Demby': 3,\n",
       "         'Genevieve Valentine': 2,\n",
       "         'Geoff Brumfiel': 5,\n",
       "         'Geoff Nunberg': 1,\n",
       "         'Glen Weldon': 29,\n",
       "         'Grace Hood': 1,\n",
       "         'Greg Allen': 5,\n",
       "         'Greg Myre': 6,\n",
       "         'Ha-Hoa Hamano': 1,\n",
       "         'Hansi Lo Wang': 3,\n",
       "         'Heller McAlpin': 1,\n",
       "         'Howard Berkes': 3,\n",
       "         'Hugo Rojo': 1,\n",
       "         'Iman Smith': 1,\n",
       "         'Jackie Northam': 8,\n",
       "         'Jacklyn Kim': 1,\n",
       "         'Jackson Sinnenberg': 1,\n",
       "         'James Doubek': 4,\n",
       "         'Jane Arraf': 3,\n",
       "         'Jane Greenhalgh': 1,\n",
       "         'Jason Beaubien': 7,\n",
       "         'Jason Bentley': 8,\n",
       "         'Jason Heller': 2,\n",
       "         'Jason Sheehan': 3,\n",
       "         'Jason Slotkin': 15,\n",
       "         'Jay Price': 1,\n",
       "         'Jean Zimmerman': 2,\n",
       "         'Jeff Brady': 3,\n",
       "         'Jeff Koehler': 1,\n",
       "         'Jeff Lunden': 5,\n",
       "         'Jennifer Ludden': 1,\n",
       "         'Jennifer Schmidt': 1,\n",
       "         'Jenny Gold': 2,\n",
       "         'Jerad Walker': 1,\n",
       "         'Jessica Deahl': 1,\n",
       "         'Jessica Diaz-Hurtado': 5,\n",
       "         'Jessica Leigh Hester': 1,\n",
       "         'Jessica Taylor': 26,\n",
       "         'Jewly Hight': 2,\n",
       "         'Jill Neimark': 2,\n",
       "         'Jim Allen': 1,\n",
       "         'Jim Kane': 1,\n",
       "         'Jim Zarroli': 11,\n",
       "         'Joanna Kakissis': 1,\n",
       "         'Joanne Silberner': 2,\n",
       "         'Jodi Helmer': 1,\n",
       "         'Joe Palca': 4,\n",
       "         'Joe Wertz': 1,\n",
       "         'Joel Rose': 6,\n",
       "         'Johhny Kauffman': 1,\n",
       "         'John Burnett': 4,\n",
       "         'John Henning Schumann': 2,\n",
       "         'John Powers': 1,\n",
       "         'John U. Bacon': 1,\n",
       "         'John Ydstie': 2,\n",
       "         'Jon Hamilton': 5,\n",
       "         'Jonathan Baer': 1,\n",
       "         'Jordan Rau': 1,\n",
       "         'Josh Jackson': 1,\n",
       "         'Joy Ho': 1,\n",
       "         'Joy Lanzendorfer': 1,\n",
       "         'Juan Vidal': 1,\n",
       "         'Juli Fraga': 1,\n",
       "         'Julie Appleby': 2,\n",
       "         'Julie McCarthy': 4,\n",
       "         'Julie Rovner': 3,\n",
       "         'Kait Bolongaro': 1,\n",
       "         'Kara Lofton': 1,\n",
       "         'Karen Grigsby Bates': 3,\n",
       "         'Karen Shakerdge': 1,\n",
       "         'Kat Chow': 2,\n",
       "         'Kat Lonsdorf': 3,\n",
       "         'Katherine Hobson': 4,\n",
       "         'Katie Orr': 1,\n",
       "         'Katie Simon': 1,\n",
       "         'Ken Tucker': 1,\n",
       "         'Kerry Klein': 1,\n",
       "         'Kiana Fitzgerald': 2,\n",
       "         'Kim Kankiewicz': 1,\n",
       "         'Kirk Carapezza': 1,\n",
       "         'Kirk Siegler': 3,\n",
       "         'Korva Coleman': 18,\n",
       "         'Kristen Hartke': 3,\n",
       "         'Kristina Johnson': 1,\n",
       "         'Larry Kaplow': 1,\n",
       "         'Lars Gotrich': 20,\n",
       "         'Laura Oliver': 1,\n",
       "         'Laura Roman': 3,\n",
       "         'Laura Snapes': 1,\n",
       "         'Laura Sydell': 1,\n",
       "         'Laura Wagner': 15,\n",
       "         'Laurel Wamsley': 8,\n",
       "         'Lauren Frayer': 6,\n",
       "         'Lauren Migaki': 1,\n",
       "         'Lauren Ober': 1,\n",
       "         'Lauren Sommer': 1,\n",
       "         'Leah Donnella': 2,\n",
       "         'Lee Hale': 2,\n",
       "         'Leigh Paterson': 2,\n",
       "         'Lela Nargi': 1,\n",
       "         'Lily Meyer': 1,\n",
       "         'Linda Fahey': 1,\n",
       "         'Linda Holmes': 13,\n",
       "         'Linda Poon': 1,\n",
       "         'Linda Wertheimer': 1,\n",
       "         'Lindsey Smith': 1,\n",
       "         'Liz Szabo': 1,\n",
       "         'Lora Smith': 1,\n",
       "         'Lucian Kim': 5,\n",
       "         'Luke Runyon': 1,\n",
       "         'Luke Vander Ploeg': 1,\n",
       "         'Lynn Neary': 4,\n",
       "         'Maanvi Singh': 4,\n",
       "         'Madeline K. Sofia': 2,\n",
       "         'Maggie Penman': 28,\n",
       "         'Malaka Gharib': 8,\n",
       "         'Mandalit del Barco': 2,\n",
       "         'Maquita Peters': 4,\n",
       "         'Mara Liasson': 3,\n",
       "         'Marc Masters': 3,\n",
       "         'Marc Silver': 4,\n",
       "         'Marcelo Gleiser': 5,\n",
       "         'Margarita Gokun Silver': 1,\n",
       "         'Maria Godoy': 1,\n",
       "         'Maria Hinojosa': 1,\n",
       "         'Maria Hollenhorst': 1,\n",
       "         'Maria Sherman': 1,\n",
       "         'Marilyn Geewax': 2,\n",
       "         'Marina Lopes': 1,\n",
       "         'Marisa Arbona-Ruiz': 1,\n",
       "         'Marisa Peñaloza': 1,\n",
       "         'Marissa Higgins': 1,\n",
       "         'Marissa Lorusso': 3,\n",
       "         'Mark Daley': 1,\n",
       "         'Mark H. Kim': 1,\n",
       "         'Mark Jenkins': 6,\n",
       "         'Mark Katkov': 8,\n",
       "         'Mark Mobley': 1,\n",
       "         'Marlon Bishop': 1,\n",
       "         'Martha Ann Overland': 1,\n",
       "         'Martin Kaste': 4,\n",
       "         'Martina Guzman': 1,\n",
       "         'Mary Agnes Carey': 1,\n",
       "         'Mary Louise Kelly': 5,\n",
       "         'Maureen Corrigan': 2,\n",
       "         'Maureen McCollum': 1,\n",
       "         'Maya Rodale': 1,\n",
       "         'Mayra Linares': 3,\n",
       "         'Meg Anderson': 6,\n",
       "         'Megan Buerger': 3,\n",
       "         'Megan Kamerick': 1,\n",
       "         'Meredith Rizzo': 1,\n",
       "         'Merrit Kennedy': 61,\n",
       "         'Michael Czaplinski': 1,\n",
       "         'Michael Oreskes': 1,\n",
       "         'Michael Schaub': 2,\n",
       "         'Michael Tomsic': 1,\n",
       "         'Michaeleen Doucleff': 4,\n",
       "         'Michel Martin': 1,\n",
       "         'Michele Kelemen': 4,\n",
       "         'Michelle Andrews': 5,\n",
       "         'Michelle Mercer': 2,\n",
       "         'Mike Katzif': 2,\n",
       "         'Miles Bryan': 1,\n",
       "         'Mina Tavakoli': 1,\n",
       "         'Molly Solomon': 1,\n",
       "         'NPR Ed': 1,\n",
       "         'NPR Staff': 105,\n",
       "         'NPR/TED Staff': 9,\n",
       "         'Nancy Pearl': 1,\n",
       "         'Natasha Haverty': 2,\n",
       "         'Nathan Rott': 5,\n",
       "         'Neda Ulaby': 5,\n",
       "         'Nell Greenfieldboyce': 10,\n",
       "         'Nick Evans': 1,\n",
       "         'Nicky Ouellet': 2,\n",
       "         'Nicole Cohen': 1,\n",
       "         'Nicole Jankowski': 1,\n",
       "         'Nina Totenberg': 6,\n",
       "         'Noel King': 1,\n",
       "         'Nurith Aizenman': 7,\n",
       "         'Ofeibea Quist-Arcton': 1,\n",
       "         'Oliver Wang': 1,\n",
       "         'Otis Hart': 4,\n",
       "         'Pam Fessler': 3,\n",
       "         'Parth Shah': 2,\n",
       "         'Patricia Murphy': 1,\n",
       "         'Patrick Madden': 1,\n",
       "         'Patti Neighmond': 3,\n",
       "         'Pauline Bartolone': 1,\n",
       "         'Peter Granitz': 1,\n",
       "         'Peter Kenyon': 6,\n",
       "         'Peter Overby': 4,\n",
       "         'Petra Mayer': 1,\n",
       "         'Philip Ewing': 5,\n",
       "         'Philip Galewitz': 1,\n",
       "         'Piotr Orlov': 5,\n",
       "         'Quil Lawrence': 1,\n",
       "         'Rachel Bluth': 1,\n",
       "         'Rachel Horn': 5,\n",
       "         'Rachel Martin': 3,\n",
       "         'Rachel Waldholz': 1,\n",
       "         'Rae Ellen Bichell': 8,\n",
       "         'Rebecca Hersher': 60,\n",
       "         'Rebecca Sananes': 1,\n",
       "         'Reid Frazier': 1,\n",
       "         'Renee Klahr': 2,\n",
       "         'Rhaina Cohen': 1,\n",
       "         'Rhitu Chaterjee': 1,\n",
       "         'Rhitu Chatterjee': 1,\n",
       "         'Richard Gonzales': 8,\n",
       "         'Richard Harris': 7,\n",
       "         'Riley Beggin': 1,\n",
       "         'Rob Schmitz': 9,\n",
       "         'Rob Stein': 6,\n",
       "         'Robin Hilton': 18,\n",
       "         'Robin Marantz Henig': 1,\n",
       "         'Robyn Park': 4,\n",
       "         'Ron Elving': 5,\n",
       "         'Rose Friedman': 1,\n",
       "         'Rowan Moore-Gerety': 1,\n",
       "         'Russell Lewis': 1,\n",
       "         'Ryan Kailath': 1,\n",
       "         'Ryan Kellman': 1,\n",
       "         'Sam Harnett': 1,\n",
       "         'Sam Sanders': 3,\n",
       "         'Sami Yenigun': 2,\n",
       "         'Sandhya Dirks': 1,\n",
       "         'Sandip Roy': 1,\n",
       "         'Sarah Hepola': 1,\n",
       "         'Sarah McCammon': 1,\n",
       "         'Sarah-Anne Henning Schumann': 1,\n",
       "         'Scott Detrow': 12,\n",
       "         'Scott Horsley': 13,\n",
       "         'Scott Simon': 6,\n",
       "         'Scott Tobias': 6,\n",
       "         'Seth Herald': 1,\n",
       "         'Shankar Vedantam': 3,\n",
       "         'Sherrel Stewart': 2,\n",
       "         'Simon Rentner': 1,\n",
       "         'Sonari Glinton': 1,\n",
       "         'Sonia Narang': 1,\n",
       "         'Soraya Sarhaddi Nelson': 3,\n",
       "         'Stephan Bisaha': 1,\n",
       "         'Stephanie Martin Taylor': 1,\n",
       "         \"Stephanie O'Neill\": 1,\n",
       "         'Stephen Nessen': 1,\n",
       "         'Stephen Thompson': 12,\n",
       "         'Steve Carmody': 1,\n",
       "         'Steve Inskeep': 6,\n",
       "         'Steven Findlay': 1,\n",
       "         'Stina Sieg': 1,\n",
       "         'Sujata Gupta': 2,\n",
       "         'Suraya Mohamed': 5,\n",
       "         'Susan Brink': 5,\n",
       "         'Susan Davis': 9,\n",
       "         'Susan Jaffe': 1,\n",
       "         'Susan Stamberg': 2,\n",
       "         'Sydney Lupkin': 1,\n",
       "         'Sylvia Poggioli': 6,\n",
       "         'Talia Schlanger': 12,\n",
       "         'Tamar Charney': 2,\n",
       "         'Tamara Keith': 11,\n",
       "         'Tania Lombrozo': 5,\n",
       "         'Tanya Basu': 1,\n",
       "         'Tara Boyle': 1,\n",
       "         'Tasneem Raja': 1,\n",
       "         'Taunya English': 1,\n",
       "         'Ted Robbins': 1,\n",
       "         'Tegan Wendland': 1,\n",
       "         'The Associated Press': 1,\n",
       "         'Thomas Hjelm': 1,\n",
       "         'Tim Greiving': 1,\n",
       "         'Timmhotep Aku': 1,\n",
       "         'Todd Bookman': 1,\n",
       "         'Tom Bowman': 2,\n",
       "         'Tom Cole': 2,\n",
       "         'Tom Gjelten': 5,\n",
       "         'Tom Goldman': 1,\n",
       "         'Tom Huizenga': 4,\n",
       "         'Tom Moon': 1,\n",
       "         'Tom Vitale': 1,\n",
       "         'Tori Whitley': 1,\n",
       "         'Tove K. Danovich': 5,\n",
       "         'Tunde Wey': 1,\n",
       "         'Vera Zakem': 1,\n",
       "         'Vicky Hallett': 3,\n",
       "         'Vincent Ialenti': 1,\n",
       "         'Wade Goodwyn': 2,\n",
       "         'Wendy Rigby': 1,\n",
       "         'Will Shortz': 8,\n",
       "         'William Dobson': 1,\n",
       "         'Wynne Davis': 8,\n",
       "         'Yasmeen Khan': 1,\n",
       "         'Yuki Noguchi': 5,\n",
       "         'emma bowman': 1})"
      ]
     },
     "execution_count": 12,
     "metadata": {},
     "output_type": "execute_result"
    }
   ],
   "source": [
    "authors"
   ]
  },
  {
   "cell_type": "code",
   "execution_count": 13,
   "metadata": {
    "collapsed": false
   },
   "outputs": [
    {
     "data": {
      "text/plain": [
       "[('NPR Staff', 105),\n",
       " ('Camila Domonoske', 88),\n",
       " ('Merrit Kennedy', 61),\n",
       " ('Rebecca Hersher', 60),\n",
       " ('Colin Dwyer', 41),\n",
       " ('Bill Chappell', 37),\n",
       " ('Glen Weldon', 29),\n",
       " ('Maggie Penman', 28),\n",
       " ('Jessica Taylor', 26),\n",
       " ('David Dye', 23),\n",
       " ('Bob Boilen', 22),\n",
       " ('Brian Naylor', 20),\n",
       " ('Lars Gotrich', 20),\n",
       " ('Korva Coleman', 18),\n",
       " ('Robin Hilton', 18),\n",
       " ('Danielle Kurtzleben ', 15),\n",
       " ('Laura Wagner', 15),\n",
       " ('Jason Slotkin', 15),\n",
       " ('Scott Horsley', 13),\n",
       " ('Linda Holmes', 13),\n",
       " ('Stephen Thompson', 12),\n",
       " ('Talia Schlanger', 12),\n",
       " ('Scott Detrow', 12),\n",
       " ('Felix Contreras', 11),\n",
       " ('Cam Robert', 11),\n",
       " ('Tamara Keith', 11),\n",
       " ('Jim Zarroli', 11),\n",
       " ('Nell Greenfieldboyce', 10),\n",
       " ('Brakkton Booker', 10),\n",
       " ('Dan Charles', 9),\n",
       " ('Alison Kodjak', 9),\n",
       " ('Susan Davis', 9),\n",
       " ('Domenico Montanaro', 9),\n",
       " ('NPR/TED Staff', 9),\n",
       " ('Rob Schmitz', 9),\n",
       " ('Jason Bentley', 8),\n",
       " ('Mark Katkov', 8),\n",
       " ('Alina Selyukh', 8),\n",
       " ('Rae Ellen Bichell', 8),\n",
       " ('Richard Gonzales', 8),\n",
       " ('Wynne Davis', 8),\n",
       " ('Doreen McCallister', 8),\n",
       " ('Malaka Gharib', 8),\n",
       " ('Will Shortz', 8),\n",
       " ('Laurel Wamsley', 8),\n",
       " ('Jackie Northam', 8),\n",
       " ('Nurith Aizenman', 7),\n",
       " ('Richard Harris', 7),\n",
       " ('Jason Beaubien', 7),\n",
       " ('Ann Powers', 7),\n",
       " ('Carrie Johnson', 7),\n",
       " ('Cory Turner', 6),\n",
       " ('Scott Tobias', 6),\n",
       " ('Eleanor Beardsley', 6),\n",
       " ('Nina Totenberg', 6),\n",
       " ('Lauren Frayer', 6),\n",
       " ('Scott Simon', 6),\n",
       " ('Steve Inskeep', 6),\n",
       " ('Meg Anderson', 6),\n",
       " ('Barbara J. King', 6),\n",
       " ('Sylvia Poggioli', 6),\n",
       " ('Mark Jenkins', 6),\n",
       " ('Anya Kamenetz', 6),\n",
       " ('David Folkenflik', 6),\n",
       " ('Greg Myre', 6),\n",
       " ('Rob Stein', 6),\n",
       " ('Joel Rose', 6),\n",
       " ('Andrew Lapin', 6),\n",
       " ('Peter Kenyon', 6),\n",
       " ('Elissa Nadworny ', 6),\n",
       " ('Elise Hu', 6),\n",
       " ('Tom Gjelten', 5),\n",
       " ('Jeff Lunden', 5),\n",
       " ('Ella Taylor', 5),\n",
       " ('Mary Louise Kelly', 5),\n",
       " ('Christopher Joyce', 5),\n",
       " ('Jon Hamilton', 5),\n",
       " ('Philip Ewing', 5),\n",
       " ('Michelle Andrews', 5),\n",
       " ('Neda Ulaby', 5),\n",
       " ('Christopher Dean Hopkins', 5),\n",
       " ('Susan Brink', 5),\n",
       " ('Marcelo Gleiser', 5),\n",
       " ('Ammad Omar', 5),\n",
       " ('Greg Allen', 5),\n",
       " ('Don Gonyea', 5),\n",
       " ('Eyder Peralta', 5),\n",
       " ('Tania Lombrozo', 5),\n",
       " ('Erin Ross', 5),\n",
       " ('Jessica Diaz-Hurtado', 5),\n",
       " ('Adam Frank', 5),\n",
       " ('Tove K. Danovich', 5),\n",
       " ('Piotr Orlov', 5),\n",
       " ('Geoff Brumfiel', 5),\n",
       " ('Ron Elving', 5),\n",
       " ('Suraya Mohamed', 5),\n",
       " ('Nathan Rott', 5),\n",
       " ('Alan Yu', 5),\n",
       " ('Rachel Horn', 5),\n",
       " ('Yuki Noguchi', 5),\n",
       " ('Allison Aubrey', 5),\n",
       " ('Eric Westervelt', 5),\n",
       " ('Lucian Kim', 5),\n",
       " ('Eric Deggans', 5),\n",
       " ('Alva Noë', 5),\n",
       " ('Maanvi Singh', 4),\n",
       " ('Robyn Park', 4),\n",
       " ('Michele Kelemen', 4),\n",
       " ('Alice Fordham', 4),\n",
       " ('Bob Mondello', 4),\n",
       " ('Michaeleen Doucleff', 4),\n",
       " ('John Burnett', 4),\n",
       " ('Martin Kaste', 4),\n",
       " ('Bruce Warren', 4),\n",
       " ('Otis Hart', 4),\n",
       " ('Joe Palca', 4),\n",
       " ('Angus Chen', 4),\n",
       " ('Tom Huizenga', 4),\n",
       " ('Anthony Kuhn', 4),\n",
       " ('Arnie Seipel', 4),\n",
       " ('Peter Overby', 4),\n",
       " ('Julie McCarthy', 4),\n",
       " ('Cheryl Corley', 4),\n",
       " ('Emma Bowman', 4),\n",
       " ('Daniel Estrin', 4),\n",
       " ('Lynn Neary', 4),\n",
       " ('Marc Silver', 4),\n",
       " ('James Doubek', 4),\n",
       " ('Katherine Hobson', 4),\n",
       " ('Chris Klimek', 4),\n",
       " ('Maquita Peters', 4),\n",
       " ('Claudio Sanchez', 4),\n",
       " ('Alexandria Lee', 4),\n",
       " ('Adrian Florido', 3),\n",
       " ('David Greene', 3),\n",
       " ('Kristen Hartke', 3),\n",
       " ('Anna Marketti', 3),\n",
       " ('Kat Lonsdorf', 3),\n",
       " ('Jeff Brady', 3),\n",
       " ('Ariel Zambelich', 3),\n",
       " ('Vicky Hallett', 3),\n",
       " ('Howard Berkes', 3),\n",
       " ('Shankar Vedantam', 3),\n",
       " ('Karen Grigsby Bates', 3),\n",
       " ('Chris Arnold', 3),\n",
       " ('Marissa Lorusso', 3),\n",
       " ('Laura Roman', 3),\n",
       " ('Daniel Zwerdling', 3),\n",
       " ('Gene Demby', 3),\n",
       " ('Sam Sanders', 3),\n",
       " ('Pam Fessler', 3),\n",
       " ('Soraya Sarhaddi Nelson', 3),\n",
       " ('Mayra Linares', 3),\n",
       " ('Ailsa Chang', 3),\n",
       " ('Bobby Carter', 3),\n",
       " ('Ari Shapiro', 3),\n",
       " ('Jason Sheehan', 3),\n",
       " ('Patti Neighmond', 3),\n",
       " ('Elizabeth Jensen', 3),\n",
       " ('Rachel Martin', 3),\n",
       " ('Marc Masters', 3),\n",
       " ('Julie Rovner', 3),\n",
       " ('Frank Langfitt', 3),\n",
       " ('Jane Arraf', 3),\n",
       " ('Megan Buerger', 3),\n",
       " ('Mara Liasson', 3),\n",
       " ('Aarti Shahani', 3),\n",
       " ('Hansi Lo Wang', 3),\n",
       " ('Kirk Siegler', 3),\n",
       " ('Julie Appleby', 2),\n",
       " ('Benjamin Naddaff-Hafrey', 2),\n",
       " ('Michael Schaub', 2),\n",
       " ('Anastasia Tsioulcas', 2),\n",
       " ('Kat Chow', 2),\n",
       " ('Joanne Silberner', 2),\n",
       " ('Alison Fensterstock', 2),\n",
       " ('Parth Shah', 2),\n",
       " ('Etelka Lehoczky', 2),\n",
       " ('Gabrielle Emanuel', 2),\n",
       " ('Chhavi Sachdev', 2),\n",
       " ('Jean Zimmerman', 2),\n",
       " ('Jill Neimark', 2),\n",
       " ('Bret Stetka', 2),\n",
       " ('Susan Stamberg', 2),\n",
       " ('Jewly Hight', 2),\n",
       " ('Francis Davis', 2),\n",
       " ('An-Li Herring', 2),\n",
       " ('Sami Yenigun', 2),\n",
       " ('Amal El-Mohtar', 2),\n",
       " ('Kiana Fitzgerald', 2),\n",
       " ('Michelle Mercer', 2),\n",
       " ('Tom Cole', 2),\n",
       " ('Frannie Kelley', 2),\n",
       " ('Alison Meuse', 2),\n",
       " ('Deborah Amos', 2),\n",
       " ('Sherrel Stewart', 2),\n",
       " ('Tom Bowman', 2),\n",
       " ('Debbie Elliott', 2),\n",
       " ('David Welna', 2),\n",
       " ('Elizabeth Blair', 2),\n",
       " ('Ashley Westerman ', 2),\n",
       " ('Leah Donnella', 2),\n",
       " ('Leigh Paterson', 2),\n",
       " ('Cassi Alexandra', 2),\n",
       " ('Adam Cole', 2),\n",
       " ('John Henning Schumann', 2),\n",
       " ('Ben Fishel', 2),\n",
       " ('Jason Heller', 2),\n",
       " ('Wade Goodwyn', 2),\n",
       " ('Avie Schneider', 2),\n",
       " ('David Bianculli', 2),\n",
       " ('David Schaper', 2),\n",
       " ('John Ydstie', 2),\n",
       " ('David Bodanis', 2),\n",
       " ('Lee Hale', 2),\n",
       " ('Maureen Corrigan', 2),\n",
       " ('Jenny Gold', 2),\n",
       " ('Mike Katzif', 2),\n",
       " ('Marilyn Geewax', 2),\n",
       " ('Ben Allen', 2),\n",
       " ('Natasha Haverty', 2),\n",
       " ('Mandalit del Barco', 2),\n",
       " ('Madeline K. Sofia', 2),\n",
       " ('Tamar Charney', 2),\n",
       " ('Andrew Limbong', 2),\n",
       " ('Genevieve Valentine', 2),\n",
       " ('Sujata Gupta', 2),\n",
       " ('Nicky Ouellet', 2),\n",
       " ('Aki Peritz', 2),\n",
       " ('Barry Walters', 2),\n",
       " ('Anna Gorman', 2),\n",
       " ('Asma Khalid', 2),\n",
       " ('Renee Klahr', 2),\n",
       " ('Diane Cole', 2),\n",
       " ('Deena Prichep', 2),\n",
       " ('Maureen McCollum', 1),\n",
       " ('Deepak Singh', 1),\n",
       " ('Katie Orr', 1),\n",
       " ('Dennis Ross', 1),\n",
       " ('Briana Younger', 1),\n",
       " ('Marlon Bishop', 1),\n",
       " ('Chris Benderev', 1),\n",
       " ('Luke Vander Ploeg', 1),\n",
       " ('Rachel Bluth', 1),\n",
       " ('Lora Smith', 1),\n",
       " ('Jane Greenhalgh', 1),\n",
       " ('Lela Nargi', 1),\n",
       " ('Rose Friedman', 1),\n",
       " ('Philip Galewitz', 1),\n",
       " ('Lindsey Smith', 1),\n",
       " ('Dustin DeSoto', 1),\n",
       " (\"Stephanie O'Neill\", 1),\n",
       " ('Yasmeen Khan', 1),\n",
       " ('The Associated Press', 1),\n",
       " ('Margarita Gokun Silver', 1),\n",
       " ('Alison Richards', 1),\n",
       " ('Ann Finkbeiner', 1),\n",
       " ('David Edelstein', 1),\n",
       " ('Agerenesh Ashagre', 1),\n",
       " ('Joanna Kakissis', 1),\n",
       " ('Alejandra Maria Salazar', 1),\n",
       " ('Timmhotep Aku', 1),\n",
       " ('Annie Tomlinson', 1),\n",
       " ('Rowan Moore-Gerety', 1),\n",
       " ('Quil Lawrence', 1),\n",
       " ('Jodi Helmer', 1),\n",
       " ('Clare Leschin-Hoar', 1),\n",
       " ('Martha Ann Overland', 1),\n",
       " ('Vincent Ialenti', 1),\n",
       " ('Michael Czaplinski', 1),\n",
       " ('Audie Cornish', 1),\n",
       " ('Ha-Hoa Hamano', 1),\n",
       " ('Grace Hood', 1),\n",
       " ('Lily Meyer', 1),\n",
       " ('Wendy Rigby', 1),\n",
       " ('Carrie Jung', 1),\n",
       " ('Johhny Kauffman', 1),\n",
       " ('Mark Daley', 1),\n",
       " ('Tara Boyle', 1),\n",
       " ('Jim Allen', 1),\n",
       " ('Megan Kamerick', 1),\n",
       " ('Sarah Hepola', 1),\n",
       " ('Ken Tucker', 1),\n",
       " ('Frank Morris', 1),\n",
       " ('Sarah-Anne Henning Schumann', 1),\n",
       " ('Anya Sacharow', 1),\n",
       " ('Jordan Rau', 1),\n",
       " ('NPR Ed', 1),\n",
       " ('Danielle Preiss', 1),\n",
       " ('Mina Tavakoli', 1),\n",
       " ('Elizabeth Grossman', 1),\n",
       " ('Robin Marantz Henig', 1),\n",
       " ('Emily Bazar', 1),\n",
       " ('Sonia Narang', 1),\n",
       " ('Marissa Higgins', 1),\n",
       " ('Laura Snapes', 1),\n",
       " ('Stephan Bisaha', 1),\n",
       " ('Alex Cohen', 1),\n",
       " ('Todd Bookman', 1),\n",
       " ('Riley Beggin', 1),\n",
       " ('Danny Hajek', 1),\n",
       " ('Josh Jackson', 1),\n",
       " ('Edgar B. Herwick III', 1),\n",
       " ('Nancy Pearl', 1),\n",
       " ('Ryan Kailath', 1),\n",
       " ('Amy E. Robertson', 1),\n",
       " ('Brandie Jefferson', 1),\n",
       " ('Tanya Basu', 1),\n",
       " ('Deborah Shaar', 1),\n",
       " ('Michael Oreskes', 1),\n",
       " ('Maria Godoy', 1),\n",
       " ('Simon Rentner', 1),\n",
       " ('Stephanie Martin Taylor', 1),\n",
       " ('Luke Runyon', 1),\n",
       " ('Patrick Madden', 1),\n",
       " ('Susan Jaffe', 1),\n",
       " ('Steven Findlay', 1),\n",
       " ('Steve Carmody', 1),\n",
       " ('Anna Mazarakis', 1),\n",
       " ('Marina Lopes', 1),\n",
       " ('Alexandra Olgin', 1),\n",
       " ('Sandhya Dirks', 1),\n",
       " ('Ben Schein', 1),\n",
       " ('Marisa Peñaloza', 1),\n",
       " ('Kristina Johnson', 1),\n",
       " ('Alyssa Edes', 1),\n",
       " ('Edward Mabaya', 1),\n",
       " ('John U. Bacon', 1),\n",
       " ('Hugo Rojo', 1),\n",
       " ('William Dobson', 1),\n",
       " ('Nick Evans', 1),\n",
       " ('Ofeibea Quist-Arcton', 1),\n",
       " ('Tunde Wey', 1),\n",
       " ('Martina Guzman', 1),\n",
       " ('Petra Mayer', 1),\n",
       " ('Mark Mobley', 1),\n",
       " ('Bram Sable-Smith, KBIA and Side Effects Public Media', 1),\n",
       " ('Kirk Carapezza', 1),\n",
       " ('Laura Sydell', 1),\n",
       " ('Juli Fraga', 1),\n",
       " ('Katie Simon', 1),\n",
       " ('Jeff Koehler', 1),\n",
       " ('Marisa Arbona-Ruiz', 1),\n",
       " ('Maria Hollenhorst', 1),\n",
       " ('Jennifer Schmidt', 1),\n",
       " ('Jim Kane', 1),\n",
       " ('Patricia Murphy', 1),\n",
       " ('Tom Vitale', 1),\n",
       " ('Alex Ariff', 1),\n",
       " ('Sonari Glinton', 1),\n",
       " ('Molly Solomon', 1),\n",
       " ('Ted Robbins', 1),\n",
       " ('Elena See', 1),\n",
       " ('Michel Martin', 1),\n",
       " ('Becky Harlan', 1),\n",
       " ('Liz Szabo', 1),\n",
       " ('Maya Rodale', 1),\n",
       " ('Dan Carsen', 1),\n",
       " ('Eric Whitney', 1),\n",
       " ('Maria Hinojosa', 1),\n",
       " ('Heller McAlpin', 1),\n",
       " ('Kara Lofton', 1),\n",
       " ('Lauren Ober', 1),\n",
       " ('Jessica Leigh Hester', 1),\n",
       " ('Nicole Cohen', 1),\n",
       " ('Taunya English', 1),\n",
       " ('Esther Landhuis', 1),\n",
       " ('Jessica Deahl', 1),\n",
       " ('Doug Mosurock', 1),\n",
       " ('Russell Lewis', 1),\n",
       " ('Meredith Rizzo', 1),\n",
       " ('Beth Novey', 1),\n",
       " ('Joy Lanzendorfer', 1),\n",
       " ('Maria Sherman', 1),\n",
       " ('emma bowman', 1),\n",
       " ('Oliver Wang', 1),\n",
       " ('Emily Siner', 1),\n",
       " ('Tim Greiving', 1),\n",
       " ('Seth Herald', 1),\n",
       " ('Jennifer Ludden', 1),\n",
       " ('Jackson Sinnenberg', 1),\n",
       " ('Carrie Kahn', 1),\n",
       " ('Jonathan Baer', 1),\n",
       " ('Tegan Wendland', 1),\n",
       " ('Juan Vidal', 1),\n",
       " ('Annalisa Quinn', 1),\n",
       " ('Sandip Roy', 1),\n",
       " ('Thomas Hjelm', 1),\n",
       " ('Stina Sieg', 1),\n",
       " ('Sydney Lupkin', 1),\n",
       " ('David Grinspoon', 1),\n",
       " ('Stephen Nessen', 1),\n",
       " ('Tom Goldman', 1),\n",
       " ('Peter Granitz', 1),\n",
       " ('Rhitu Chaterjee', 1),\n",
       " ('Antonia Cereijido', 1),\n",
       " ('Geoff Nunberg', 1),\n",
       " ('Eleanor Klibanoff', 1),\n",
       " ('Jerad Walker', 1),\n",
       " ('Tori Whitley', 1),\n",
       " ('Rhaina Cohen', 1),\n",
       " ('Tasneem Raja', 1),\n",
       " ('Alan Greenblatt', 1),\n",
       " ('Clarissa Wei', 1),\n",
       " ('Kerry Klein', 1),\n",
       " ('Joy Ho', 1),\n",
       " ('Michael Tomsic', 1),\n",
       " ('Linda Poon', 1),\n",
       " ('Fred Bever', 1),\n",
       " ('David Sedaris', 1),\n",
       " ('Craig LeMoult', 1),\n",
       " ('Reid Frazier', 1),\n",
       " ('Laura Oliver', 1),\n",
       " ('Annie Ropeik', 1),\n",
       " ('Nicole Jankowski', 1),\n",
       " ('Vera Zakem', 1),\n",
       " ('Mary Agnes Carey', 1),\n",
       " ('Mark H. Kim', 1),\n",
       " ('Tom Moon', 1),\n",
       " ('Miles Bryan', 1),\n",
       " ('Ellen Wu', 1),\n",
       " ('Emily Feng', 1),\n",
       " ('Linda Fahey', 1),\n",
       " ('Sam Harnett', 1),\n",
       " ('Rachel Waldholz', 1),\n",
       " ('Ryan Kellman', 1),\n",
       " ('Pauline Bartolone', 1),\n",
       " ('Bonny Wolf', 1),\n",
       " ('Karen Shakerdge', 1),\n",
       " ('Larry Kaplow', 1),\n",
       " ('Joe Wertz', 1),\n",
       " ('Sarah McCammon', 1),\n",
       " ('Lauren Sommer', 1),\n",
       " ('Jay Price', 1),\n",
       " ('Kim Kankiewicz', 1),\n",
       " ('Brian Mann', 1),\n",
       " ('Iman Smith', 1),\n",
       " ('Lauren Migaki', 1),\n",
       " ('Barbara Campbell', 1),\n",
       " ('Kait Bolongaro', 1),\n",
       " ('Linda Wertheimer', 1),\n",
       " ('Jacklyn Kim', 1),\n",
       " ('Noel King', 1),\n",
       " ('Alexi Horowitz-Ghazi', 1),\n",
       " ('John Powers', 1),\n",
       " ('Rebecca Sananes', 1),\n",
       " ('Fred Schulte', 1),\n",
       " ('Rhitu Chatterjee', 1),\n",
       " ('Alex Zaragoza', 1),\n",
       " ('Carmen Heredia Rodriguez', 1),\n",
       " ('Amy Sisk', 1)]"
      ]
     },
     "execution_count": 13,
     "metadata": {},
     "output_type": "execute_result"
    }
   ],
   "source": [
    "authors.most_common()"
   ]
  },
  {
   "cell_type": "code",
   "execution_count": 14,
   "metadata": {
    "collapsed": false
   },
   "outputs": [
    {
     "data": {
      "text/plain": [
       "3"
      ]
     },
     "execution_count": 14,
     "metadata": {},
     "output_type": "execute_result"
    }
   ],
   "source": [
    "authors['Ari Shapiro']"
   ]
  },
  {
   "cell_type": "markdown",
   "metadata": {},
   "source": [
    "Let's say we wanted to now subset down to the articles which Ari Shapiro worked on.  There are a variety of way's we could do this but I will demo one possible avenue."
   ]
  },
  {
   "cell_type": "code",
   "execution_count": 15,
   "metadata": {
    "collapsed": false
   },
   "outputs": [
    {
     "data": {
      "text/plain": [
       "1268    Encore: Solange's 'A Seat At The Table' Honors...\n",
       "1692    In Toledo, Syrian Refugees Are Welcomed Amid A...\n",
       "1873    As A Syrian Refugee In Toledo Pines For His Fa...\n",
       "Name: headline, dtype: object"
      ]
     },
     "execution_count": 15,
     "metadata": {},
     "output_type": "execute_result"
    }
   ],
   "source": [
    "# Because some rows have NaN's in them, we need to get clever with how we\n",
    "# create our mask\n",
    "mask = df['author'].map(lambda x: 'Ari Shapiro' in x if isinstance(x, list)\n",
    "                                   else False)\n",
    "\n",
    "df.loc[mask, 'headline']"
   ]
  },
  {
   "cell_type": "code",
   "execution_count": 16,
   "metadata": {
    "collapsed": false
   },
   "outputs": [
    {
     "data": {
      "text/plain": [
       "1268    Encore: Solange's 'A Seat At The Table' Honors...\n",
       "1692    In Toledo, Syrian Refugees Are Welcomed Amid A...\n",
       "1873    As A Syrian Refugee In Toledo Pines For His Fa...\n",
       "Name: headline, dtype: object"
      ]
     },
     "execution_count": 16,
     "metadata": {},
     "output_type": "execute_result"
    }
   ],
   "source": [
    "# Here is another way we could acheive this\n",
    "mask = df.loc[df['author'].notnull(), 'author'].map(lambda x: 'Ari Shapiro' in x)\n",
    "\n",
    "df.loc[df['author'].notnull()].loc[mask, 'headline']"
   ]
  },
  {
   "cell_type": "markdown",
   "metadata": {},
   "source": [
    "## Most popular sections\n",
    "\n",
    "Let's find what the 5 most popular sections (as judged by the number of articles published within that article)"
   ]
  },
  {
   "cell_type": "code",
   "execution_count": 17,
   "metadata": {
    "collapsed": false
   },
   "outputs": [
    {
     "data": {
      "text/plain": [
       "The Two-Way            479\n",
       "Here And Now           398\n",
       "Politics               181\n",
       "Shots - Health News    103\n",
       "Parallels               88\n",
       "Name: section, dtype: int64"
      ]
     },
     "execution_count": 17,
     "metadata": {},
     "output_type": "execute_result"
    }
   ],
   "source": [
    "df['section'].value_counts(dropna=False)[:5]"
   ]
  },
  {
   "cell_type": "markdown",
   "metadata": {},
   "source": [
    "When we first were looking at our DataFrame, you may have noticed that there are quite a few rows missing author information.  Maybe we have a hypothesis that there are certain sections that systemically weren't attaching author information.  Let's dive deeper to try and prove/disprove this hypothesis..."
   ]
  },
  {
   "cell_type": "code",
   "execution_count": 18,
   "metadata": {
    "collapsed": false,
    "scrolled": true
   },
   "outputs": [
    {
     "data": {
      "text/plain": [
       "section\n",
       "Europe                                            1.000000\n",
       "The Thistle & Shamrock                            1.000000\n",
       "From Scratch                                      1.000000\n",
       "Games & Humor                                     1.000000\n",
       "Dear Sugars                                       1.000000\n",
       "Here And Now                                      1.000000\n",
       "Joe's Big Idea                                    1.000000\n",
       "Marian McPartland's Piano Jazz                    1.000000\n",
       "Metropolis                                        1.000000\n",
       "Ask Me Another                                    1.000000\n",
       "Mountain Stage                                    1.000000\n",
       "Analysis                                          1.000000\n",
       "Movies                                            1.000000\n",
       "Wait Wait...Don't Tell Me!                        1.000000\n",
       "On Point                                          1.000000\n",
       "Fresh Air Weekend                                 1.000000\n",
       "Planet Money                                      0.866667\n",
       "Food                                              0.750000\n",
       "Youth Radio                                       0.500000\n",
       "National Security                                 0.500000\n",
       "Energy                                            0.500000\n",
       "Theater                                           0.500000\n",
       "Movie Interviews                                  0.444444\n",
       "Remembrances                                      0.333333\n",
       "Television                                        0.250000\n",
       "Books                                             0.250000\n",
       "Environment                                       0.200000\n",
       "World                                             0.200000\n",
       "NPR Ombudsman                                     0.200000\n",
       "U.S.                                              0.187500\n",
       "                                                    ...   \n",
       "Movie Reviews                                     0.000000\n",
       "Parallels                                         0.000000\n",
       "Music                                             0.000000\n",
       "Music News                                        0.000000\n",
       "Media                                             0.000000\n",
       "Music Reviews                                     0.000000\n",
       "Music Videos                                      0.000000\n",
       "My Big Break                                      0.000000\n",
       "NPR Ed                                            0.000000\n",
       "NPR Extra                                         0.000000\n",
       "NPR News Nuggets                                  0.000000\n",
       "Recipes                                           0.000000\n",
       "Religion                                          0.000000\n",
       "News                                              0.000000\n",
       "History                                           0.000000\n",
       "From Our Listeners                                0.000000\n",
       "Social Entrepreneurs: Taking On World Problems    0.000000\n",
       "Front Row                                         0.000000\n",
       "Simon Says                                        0.000000\n",
       "Goats and Soda                                    0.000000\n",
       "Hidden Brain                                      0.000000\n",
       "Holiday Music                                     0.000000\n",
       "Latitudes                                         0.000000\n",
       "Interviews                                        0.000000\n",
       "Jazz Night In America                             0.000000\n",
       "Jazz Night In America Videos                      0.000000\n",
       "Jazz Night In America: The Radio Program          0.000000\n",
       "Research News                                     0.000000\n",
       "Latin America                                     0.000000\n",
       "13.7: Cosmos And Culture                          0.000000\n",
       "Name: author_null, dtype: float64"
      ]
     },
     "execution_count": 18,
     "metadata": {},
     "output_type": "execute_result"
    }
   ],
   "source": [
    "# Let's create a new column that indicates whether the author attribute was null or not\n",
    "# This helps with the groupby below\n",
    "df['author_null'] = df['author'].isnull()\n",
    "\n",
    "# Get the mean amount of nulls for each section and sort descending\n",
    "# NOTE: 1.0 indicates ALL Nulls\n",
    "df.groupby('section')['author_null'].mean().sort_values(ascending=False)"
   ]
  },
  {
   "cell_type": "markdown",
   "metadata": {},
   "source": [
    "As we can see, there are clearly sections that are consistently not attaching author information as well as many that are hit or miss with the author information."
   ]
  },
  {
   "cell_type": "markdown",
   "metadata": {},
   "source": [
    "## Article Count by Time\n",
    "\n",
    "Let's make a plot showing the frequency of articles published by day, week, and month."
   ]
  },
  {
   "cell_type": "code",
   "execution_count": 19,
   "metadata": {
    "collapsed": true
   },
   "outputs": [],
   "source": [
    "# Create a pandas Series with 1's as the values and the date as the index\n",
    "s = pd.Series([1], index=df['date_published'])"
   ]
  },
  {
   "cell_type": "code",
   "execution_count": 20,
   "metadata": {
    "collapsed": false
   },
   "outputs": [
    {
     "data": {
      "text/plain": [
       "date_published\n",
       "2016-12-01 09:30:00    1\n",
       "2016-12-01 11:57:00    1\n",
       "2016-12-01 12:50:00    1\n",
       "2016-12-01 12:50:00    1\n",
       "2016-12-01 13:16:00    1\n",
       "2016-12-01 13:48:00    1\n",
       "2016-12-01 14:00:00    1\n",
       "2016-12-01 14:14:00    1\n",
       "2016-12-01 15:00:00    1\n",
       "2016-12-01 15:29:00    1\n",
       "dtype: int64"
      ]
     },
     "execution_count": 20,
     "metadata": {},
     "output_type": "execute_result"
    }
   ],
   "source": [
    "s[:10]"
   ]
  },
  {
   "cell_type": "markdown",
   "metadata": {},
   "source": [
    "Below we see how we could use the [resample function](http://pandas.pydata.org/pandas-docs/stable/generated/pandas.DataFrame.resample.html) to find the number of articles published per day.  \n",
    "\n",
    "NOTE: Our DataFrame/Series must have a datetimeindex for this to work!"
   ]
  },
  {
   "cell_type": "code",
   "execution_count": 21,
   "metadata": {
    "collapsed": false,
    "scrolled": true
   },
   "outputs": [
    {
     "data": {
      "text/plain": [
       "date_published\n",
       "2016-12-01    43\n",
       "2016-12-02    63\n",
       "2016-12-03    11\n",
       "2016-12-04    13\n",
       "2016-12-05    52\n",
       "2016-12-06    53\n",
       "2016-12-07    62\n",
       "2016-12-08    65\n",
       "2016-12-09    83\n",
       "2016-12-10    20\n",
       "2016-12-11    17\n",
       "2016-12-12    59\n",
       "2016-12-13    57\n",
       "2016-12-14    76\n",
       "2016-12-15    68\n",
       "2016-12-16    92\n",
       "2016-12-17    33\n",
       "2016-12-18    17\n",
       "2016-12-19    49\n",
       "2016-12-20    75\n",
       "2016-12-21    62\n",
       "2016-12-22    61\n",
       "2016-12-23    74\n",
       "2016-12-24    22\n",
       "2016-12-25    19\n",
       "2016-12-26    25\n",
       "2016-12-27    43\n",
       "2016-12-28    55\n",
       "2016-12-29    49\n",
       "2016-12-30    61\n",
       "2016-12-31    25\n",
       "2017-01-01    13\n",
       "2017-01-02    27\n",
       "2017-01-03    88\n",
       "2017-01-04    59\n",
       "2017-01-05    81\n",
       "2017-01-06    60\n",
       "2017-01-07    19\n",
       "2017-01-08    15\n",
       "2017-01-09    61\n",
       "2017-01-10    58\n",
       "2017-01-11    71\n",
       "2017-01-12    82\n",
       "2017-01-13    78\n",
       "2017-01-14    30\n",
       "2017-01-15    22\n",
       "2017-01-16     7\n",
       "Freq: D, dtype: int64"
      ]
     },
     "execution_count": 21,
     "metadata": {},
     "output_type": "execute_result"
    }
   ],
   "source": [
    "# Let's resample that Series and sum the values to find the number of articles by Day\n",
    "s.resample('D').sum()"
   ]
  },
  {
   "cell_type": "markdown",
   "metadata": {},
   "source": [
    "There are, of course, many different offset alias' for passing to `resample`.  For more options [see this page](http://pandas.pydata.org/pandas-docs/stable/timeseries.html#offset-aliases)."
   ]
  },
  {
   "cell_type": "code",
   "execution_count": 22,
   "metadata": {
    "collapsed": false
   },
   "outputs": [
    {
     "data": {
      "image/png": "[encoded data removed]",
      "text/plain": [
       "<matplotlib.figure.Figure at 0x7f8474fb3898>"
      ]
     },
     "metadata": {},
     "output_type": "display_data"
    }
   ],
   "source": [
    "plt.plot(s.resample('D').sum())\n",
    "plt.title('Article Count By Day')\n",
    "plt.ylabel('Number of Articles')\n",
    "plt.xlabel('Date')\n",
    "locs, labels = plt.xticks()\n",
    "plt.setp(labels, rotation=-45);"
   ]
  },
  {
   "cell_type": "code",
   "execution_count": 23,
   "metadata": {
    "collapsed": false
   },
   "outputs": [
    {
     "data": {
      "image/png": "[encoded data removed]",
      "text/plain": [
       "<matplotlib.figure.Figure at 0x7f8474e427f0>"
      ]
     },
     "metadata": {},
     "output_type": "display_data"
    }
   ],
   "source": [
    "plt.plot(s.resample('W').sum())\n",
    "plt.title('Article Count By Week')\n",
    "plt.ylabel('Number of Articles')\n",
    "plt.xlabel('date')\n",
    "locs, labels = plt.xticks()\n",
    "plt.setp(labels, rotation=-45);"
   ]
  },
  {
   "cell_type": "markdown",
   "metadata": {},
   "source": [
    "## What hour is the most popular time for publishing articles?\n",
    "\n",
    "To answer this let's extract the hour when the article was published and create a histogram."
   ]
  },
  {
   "cell_type": "code",
   "execution_count": 24,
   "metadata": {
    "collapsed": true
   },
   "outputs": [],
   "source": [
    "df['hour_published'] = df['date_published'].dt.hour"
   ]
  },
  {
   "cell_type": "markdown",
   "metadata": {},
   "source": [
    "We were able to run the above command because that particular column contains a datetime object.  From there we can run `.dt` and then extract any aspect of that datetime (e.g. `.dt.hour`, `.dt.second`, `.dt.month`, `.dt.quarter`)"
   ]
  },
  {
   "cell_type": "code",
   "execution_count": 25,
   "metadata": {
    "collapsed": false
   },
   "outputs": [
    {
     "data": {
      "image/png": "[encoded data removed]",
      "text/plain": [
       "<matplotlib.figure.Figure at 0x7f8474fdaba8>"
      ]
     },
     "metadata": {},
     "output_type": "display_data"
    }
   ],
   "source": [
    "df['hour_published'].hist()\n",
    "plt.ylabel('Number of Articles Published')\n",
    "plt.xlabel('Hour Published (24Hr)');"
   ]
  },
  {
   "cell_type": "markdown",
   "metadata": {},
   "source": [
    "By default, the `.hist` method is going to plot 10 bins.  Let's up that to 24 bins so we have a bin for each hour in the day..."
   ]
  },
  {
   "cell_type": "code",
   "execution_count": 26,
   "metadata": {
    "collapsed": false
   },
   "outputs": [
    {
     "data": {
      "image/png": "[encoded data removed]",
      "text/plain": [
       "<matplotlib.figure.Figure at 0x7f8474d04a90>"
      ]
     },
     "metadata": {},
     "output_type": "display_data"
    }
   ],
   "source": [
    "# Let's force the plot to split into 24 bins, one for each hour\n",
    "df['hour_published'].hist(bins=24)\n",
    "plt.ylabel('Number of Articles Published')\n",
    "plt.xlabel('Hour Published (24Hr)');"
   ]
  },
  {
   "cell_type": "code",
   "execution_count": 27,
   "metadata": {
    "collapsed": false
   },
   "outputs": [
    {
     "data": {
      "image/png": "[encoded data removed]",
      "text/plain": [
       "<matplotlib.figure.Figure at 0x7f8474d3e2b0>"
      ]
     },
     "metadata": {},
     "output_type": "display_data"
    }
   ],
   "source": [
    "# Let's extract the relative frequency rather than the raw counts\n",
    "df['hour_published'].hist(bins=24, normed=True, alpha=0.75)\n",
    "plt.ylabel('Freq. of Articles Published')\n",
    "plt.xlabel('Hour Published (24Hr)');"
   ]
  },
  {
   "cell_type": "code",
   "execution_count": 28,
   "metadata": {
    "collapsed": false
   },
   "outputs": [
    {
     "data": {
      "text/plain": [
       "19    280\n",
       "20    263\n",
       "21    217\n",
       "15    189\n",
       "16    177\n",
       "17    173\n",
       "22    152\n",
       "14    138\n",
       "18    129\n",
       "23    120\n",
       "12    113\n",
       "13    109\n",
       "0      60\n",
       "1      48\n",
       "3      23\n",
       "11     18\n",
       "2      18\n",
       "4      15\n",
       "5       9\n",
       "7       7\n",
       "6       7\n",
       "9       4\n",
       "10      4\n",
       "8       2\n",
       "Name: hour_published, dtype: int64"
      ]
     },
     "execution_count": 28,
     "metadata": {},
     "output_type": "execute_result"
    }
   ],
   "source": [
    "# We can also grab this information without plotting it using .value_counts\n",
    "df['hour_published'].value_counts()"
   ]
  },
  {
   "cell_type": "code",
   "execution_count": 29,
   "metadata": {
    "collapsed": false
   },
   "outputs": [
    {
     "data": {
      "text/plain": [
       "19    0.123077\n",
       "20    0.115604\n",
       "21    0.095385\n",
       "15    0.083077\n",
       "16    0.077802\n",
       "17    0.076044\n",
       "22    0.066813\n",
       "14    0.060659\n",
       "18    0.056703\n",
       "23    0.052747\n",
       "12    0.049670\n",
       "13    0.047912\n",
       "0     0.026374\n",
       "1     0.021099\n",
       "3     0.010110\n",
       "11    0.007912\n",
       "2     0.007912\n",
       "4     0.006593\n",
       "5     0.003956\n",
       "7     0.003077\n",
       "6     0.003077\n",
       "9     0.001758\n",
       "10    0.001758\n",
       "8     0.000879\n",
       "Name: hour_published, dtype: float64"
      ]
     },
     "execution_count": 29,
     "metadata": {},
     "output_type": "execute_result"
    }
   ],
   "source": [
    "df['hour_published'].value_counts(normalize=True)"
   ]
  },
  {
   "cell_type": "code",
   "execution_count": 30,
   "metadata": {
    "collapsed": false
   },
   "outputs": [
    {
     "data": {
      "text/plain": [
       "0      60\n",
       "1      48\n",
       "2      18\n",
       "3      23\n",
       "4      15\n",
       "5       9\n",
       "6       7\n",
       "7       7\n",
       "8       2\n",
       "9       4\n",
       "10      4\n",
       "11     18\n",
       "12    113\n",
       "13    109\n",
       "14    138\n",
       "15    189\n",
       "16    177\n",
       "17    173\n",
       "18    129\n",
       "19    280\n",
       "20    263\n",
       "21    217\n",
       "22    152\n",
       "23    120\n",
       "Name: hour_published, dtype: int64"
      ]
     },
     "execution_count": 30,
     "metadata": {},
     "output_type": "execute_result"
    }
   ],
   "source": [
    "# Or we could leave them in the order of a day\n",
    "df['hour_published'].value_counts().sort_index()"
   ]
  },
  {
   "cell_type": "markdown",
   "metadata": {},
   "source": [
    "## Selecting Particular Dates\n",
    "\n",
    "Let's select articles which were published between 10 am and 2 pm on December 24th, 2016.  There are a couple of ways we could do this, but let's start by making a mask."
   ]
  },
  {
   "cell_type": "code",
   "execution_count": 31,
   "metadata": {
    "collapsed": true
   },
   "outputs": [],
   "source": [
    "mask = ((df['date_published'] >= '2016-12-24 10:00:00') &\n",
    "        (df['date_published'] <= '2016-12-24 14:00:00'))"
   ]
  },
  {
   "cell_type": "code",
   "execution_count": 32,
   "metadata": {
    "collapsed": false
   },
   "outputs": [
    {
     "data": {
      "text/html": [
       "<div>\n",
       "<table border=\"1\" class=\"dataframe\">\n",
       "  <thead>\n",
       "    <tr style=\"text-align: right;\">\n",
       "      <th></th>\n",
       "      <th>article_text</th>\n",
       "      <th>author</th>\n",
       "      <th>date_published</th>\n",
       "      <th>headline</th>\n",
       "      <th>section</th>\n",
       "      <th>url</th>\n",
       "      <th>processed_text</th>\n",
       "      <th>num_authors</th>\n",
       "      <th>author_null</th>\n",
       "      <th>hour_published</th>\n",
       "    </tr>\n",
       "  </thead>\n",
       "  <tbody>\n",
       "    <tr>\n",
       "      <th>1211</th>\n",
       "      <td>Graeme Wood may be known as a journalist, but ...</td>\n",
       "      <td>[Dennis Ross]</td>\n",
       "      <td>2016-12-24 12:00:00</td>\n",
       "      <td>'The Way Of The Strangers' Explores The Pull O...</td>\n",
       "      <td>NaN</td>\n",
       "      <td>http://www.npr.org/2016/12/24/506763820/the-wa...</td>\n",
       "      <td>graeme_wood know journalist fool student islam...</td>\n",
       "      <td>1.0</td>\n",
       "      <td>False</td>\n",
       "      <td>12</td>\n",
       "    </tr>\n",
       "    <tr>\n",
       "      <th>1212</th>\n",
       "      <td>\"São Paulo is the graveyard of samba.\" So clai...</td>\n",
       "      <td>[Marina Lopes]</td>\n",
       "      <td>2016-12-24 12:00:00</td>\n",
       "      <td>In Gritty Sao Paulo, Samba Reinvents Itself Wi...</td>\n",
       "      <td>Parallels</td>\n",
       "      <td>http://www.npr.org/sections/parallels/2016/12/...</td>\n",
       "      <td>são paulo graveyard samba claim late brazilian...</td>\n",
       "      <td>1.0</td>\n",
       "      <td>False</td>\n",
       "      <td>12</td>\n",
       "    </tr>\n",
       "    <tr>\n",
       "      <th>1213</th>\n",
       "      <td>Subscription box services generally are boomin...</td>\n",
       "      <td>[Wynne Davis]</td>\n",
       "      <td>2016-12-24 12:00:00</td>\n",
       "      <td>You've Got Mail: Book Boxes Offer Novels And N...</td>\n",
       "      <td>NPR Ed</td>\n",
       "      <td>http://www.npr.org/sections/ed/2016/12/24/4958...</td>\n",
       "      <td>subscription box service generally boom fee co...</td>\n",
       "      <td>1.0</td>\n",
       "      <td>False</td>\n",
       "      <td>12</td>\n",
       "    </tr>\n",
       "    <tr>\n",
       "      <th>1214</th>\n",
       "      <td>Editor's note: This story was originally publi...</td>\n",
       "      <td>[Bonny Wolf]</td>\n",
       "      <td>2016-12-24 12:40:00</td>\n",
       "      <td>Beyond Latkes: 8 Nights Of Fried Delights From...</td>\n",
       "      <td>The Salt</td>\n",
       "      <td>http://www.npr.org/sections/thesalt/2016/12/24...</td>\n",
       "      <td>editor note story originally publish oil the_e...</td>\n",
       "      <td>1.0</td>\n",
       "      <td>False</td>\n",
       "      <td>12</td>\n",
       "    </tr>\n",
       "    <tr>\n",
       "      <th>1215</th>\n",
       "      <td>The Affordable Care Act is on the chopping blo...</td>\n",
       "      <td>[Scott Horsley]</td>\n",
       "      <td>2016-12-24 13:53:00</td>\n",
       "      <td>White House Sharpens Its Case For Obamacare, A...</td>\n",
       "      <td>Politics</td>\n",
       "      <td>http://www.npr.org/2016/12/24/506338057/white-...</td>\n",
       "      <td>the_affordable_care_act chopping block likely ...</td>\n",
       "      <td>1.0</td>\n",
       "      <td>False</td>\n",
       "      <td>13</td>\n",
       "    </tr>\n",
       "  </tbody>\n",
       "</table>\n",
       "</div>"
      ],
      "text/plain": [
       "                                           article_text           author  \\\n",
       "1211  Graeme Wood may be known as a journalist, but ...    [Dennis Ross]   \n",
       "1212  \"São Paulo is the graveyard of samba.\" So clai...   [Marina Lopes]   \n",
       "1213  Subscription box services generally are boomin...    [Wynne Davis]   \n",
       "1214  Editor's note: This story was originally publi...     [Bonny Wolf]   \n",
       "1215  The Affordable Care Act is on the chopping blo...  [Scott Horsley]   \n",
       "\n",
       "          date_published                                           headline  \\\n",
       "1211 2016-12-24 12:00:00  'The Way Of The Strangers' Explores The Pull O...   \n",
       "1212 2016-12-24 12:00:00  In Gritty Sao Paulo, Samba Reinvents Itself Wi...   \n",
       "1213 2016-12-24 12:00:00  You've Got Mail: Book Boxes Offer Novels And N...   \n",
       "1214 2016-12-24 12:40:00  Beyond Latkes: 8 Nights Of Fried Delights From...   \n",
       "1215 2016-12-24 13:53:00  White House Sharpens Its Case For Obamacare, A...   \n",
       "\n",
       "        section                                                url  \\\n",
       "1211        NaN  http://www.npr.org/2016/12/24/506763820/the-wa...   \n",
       "1212  Parallels  http://www.npr.org/sections/parallels/2016/12/...   \n",
       "1213     NPR Ed  http://www.npr.org/sections/ed/2016/12/24/4958...   \n",
       "1214   The Salt  http://www.npr.org/sections/thesalt/2016/12/24...   \n",
       "1215   Politics  http://www.npr.org/2016/12/24/506338057/white-...   \n",
       "\n",
       "                                         processed_text  num_authors  \\\n",
       "1211  graeme_wood know journalist fool student islam...          1.0   \n",
       "1212  são paulo graveyard samba claim late brazilian...          1.0   \n",
       "1213  subscription box service generally boom fee co...          1.0   \n",
       "1214  editor note story originally publish oil the_e...          1.0   \n",
       "1215  the_affordable_care_act chopping block likely ...          1.0   \n",
       "\n",
       "     author_null  hour_published  \n",
       "1211       False              12  \n",
       "1212       False              12  \n",
       "1213       False              12  \n",
       "1214       False              12  \n",
       "1215       False              13  "
      ]
     },
     "execution_count": 32,
     "metadata": {},
     "output_type": "execute_result"
    }
   ],
   "source": [
    "df.loc[mask, :]"
   ]
  },
  {
   "cell_type": "code",
   "execution_count": 33,
   "metadata": {
    "collapsed": false
   },
   "outputs": [
    {
     "data": {
      "text/html": [
       "<div>\n",
       "<table border=\"1\" class=\"dataframe\">\n",
       "  <thead>\n",
       "    <tr style=\"text-align: right;\">\n",
       "      <th></th>\n",
       "      <th>article_text</th>\n",
       "      <th>author</th>\n",
       "      <th>headline</th>\n",
       "      <th>section</th>\n",
       "      <th>url</th>\n",
       "      <th>processed_text</th>\n",
       "      <th>num_authors</th>\n",
       "      <th>author_null</th>\n",
       "      <th>hour_published</th>\n",
       "    </tr>\n",
       "    <tr>\n",
       "      <th>date_published</th>\n",
       "      <th></th>\n",
       "      <th></th>\n",
       "      <th></th>\n",
       "      <th></th>\n",
       "      <th></th>\n",
       "      <th></th>\n",
       "      <th></th>\n",
       "      <th></th>\n",
       "      <th></th>\n",
       "    </tr>\n",
       "  </thead>\n",
       "  <tbody>\n",
       "    <tr>\n",
       "      <th>2016-12-24 12:00:00</th>\n",
       "      <td>Graeme Wood may be known as a journalist, but ...</td>\n",
       "      <td>[Dennis Ross]</td>\n",
       "      <td>'The Way Of The Strangers' Explores The Pull O...</td>\n",
       "      <td>NaN</td>\n",
       "      <td>http://www.npr.org/2016/12/24/506763820/the-wa...</td>\n",
       "      <td>graeme_wood know journalist fool student islam...</td>\n",
       "      <td>1.0</td>\n",
       "      <td>False</td>\n",
       "      <td>12</td>\n",
       "    </tr>\n",
       "    <tr>\n",
       "      <th>2016-12-24 12:00:00</th>\n",
       "      <td>\"São Paulo is the graveyard of samba.\" So clai...</td>\n",
       "      <td>[Marina Lopes]</td>\n",
       "      <td>In Gritty Sao Paulo, Samba Reinvents Itself Wi...</td>\n",
       "      <td>Parallels</td>\n",
       "      <td>http://www.npr.org/sections/parallels/2016/12/...</td>\n",
       "      <td>são paulo graveyard samba claim late brazilian...</td>\n",
       "      <td>1.0</td>\n",
       "      <td>False</td>\n",
       "      <td>12</td>\n",
       "    </tr>\n",
       "    <tr>\n",
       "      <th>2016-12-24 12:00:00</th>\n",
       "      <td>Subscription box services generally are boomin...</td>\n",
       "      <td>[Wynne Davis]</td>\n",
       "      <td>You've Got Mail: Book Boxes Offer Novels And N...</td>\n",
       "      <td>NPR Ed</td>\n",
       "      <td>http://www.npr.org/sections/ed/2016/12/24/4958...</td>\n",
       "      <td>subscription box service generally boom fee co...</td>\n",
       "      <td>1.0</td>\n",
       "      <td>False</td>\n",
       "      <td>12</td>\n",
       "    </tr>\n",
       "    <tr>\n",
       "      <th>2016-12-24 12:40:00</th>\n",
       "      <td>Editor's note: This story was originally publi...</td>\n",
       "      <td>[Bonny Wolf]</td>\n",
       "      <td>Beyond Latkes: 8 Nights Of Fried Delights From...</td>\n",
       "      <td>The Salt</td>\n",
       "      <td>http://www.npr.org/sections/thesalt/2016/12/24...</td>\n",
       "      <td>editor note story originally publish oil the_e...</td>\n",
       "      <td>1.0</td>\n",
       "      <td>False</td>\n",
       "      <td>12</td>\n",
       "    </tr>\n",
       "    <tr>\n",
       "      <th>2016-12-24 13:53:00</th>\n",
       "      <td>The Affordable Care Act is on the chopping blo...</td>\n",
       "      <td>[Scott Horsley]</td>\n",
       "      <td>White House Sharpens Its Case For Obamacare, A...</td>\n",
       "      <td>Politics</td>\n",
       "      <td>http://www.npr.org/2016/12/24/506338057/white-...</td>\n",
       "      <td>the_affordable_care_act chopping block likely ...</td>\n",
       "      <td>1.0</td>\n",
       "      <td>False</td>\n",
       "      <td>13</td>\n",
       "    </tr>\n",
       "  </tbody>\n",
       "</table>\n",
       "</div>"
      ],
      "text/plain": [
       "                                                          article_text  \\\n",
       "date_published                                                           \n",
       "2016-12-24 12:00:00  Graeme Wood may be known as a journalist, but ...   \n",
       "2016-12-24 12:00:00  \"São Paulo is the graveyard of samba.\" So clai...   \n",
       "2016-12-24 12:00:00  Subscription box services generally are boomin...   \n",
       "2016-12-24 12:40:00  Editor's note: This story was originally publi...   \n",
       "2016-12-24 13:53:00  The Affordable Care Act is on the chopping blo...   \n",
       "\n",
       "                              author  \\\n",
       "date_published                         \n",
       "2016-12-24 12:00:00    [Dennis Ross]   \n",
       "2016-12-24 12:00:00   [Marina Lopes]   \n",
       "2016-12-24 12:00:00    [Wynne Davis]   \n",
       "2016-12-24 12:40:00     [Bonny Wolf]   \n",
       "2016-12-24 13:53:00  [Scott Horsley]   \n",
       "\n",
       "                                                              headline  \\\n",
       "date_published                                                           \n",
       "2016-12-24 12:00:00  'The Way Of The Strangers' Explores The Pull O...   \n",
       "2016-12-24 12:00:00  In Gritty Sao Paulo, Samba Reinvents Itself Wi...   \n",
       "2016-12-24 12:00:00  You've Got Mail: Book Boxes Offer Novels And N...   \n",
       "2016-12-24 12:40:00  Beyond Latkes: 8 Nights Of Fried Delights From...   \n",
       "2016-12-24 13:53:00  White House Sharpens Its Case For Obamacare, A...   \n",
       "\n",
       "                       section  \\\n",
       "date_published                   \n",
       "2016-12-24 12:00:00        NaN   \n",
       "2016-12-24 12:00:00  Parallels   \n",
       "2016-12-24 12:00:00     NPR Ed   \n",
       "2016-12-24 12:40:00   The Salt   \n",
       "2016-12-24 13:53:00   Politics   \n",
       "\n",
       "                                                                   url  \\\n",
       "date_published                                                           \n",
       "2016-12-24 12:00:00  http://www.npr.org/2016/12/24/506763820/the-wa...   \n",
       "2016-12-24 12:00:00  http://www.npr.org/sections/parallels/2016/12/...   \n",
       "2016-12-24 12:00:00  http://www.npr.org/sections/ed/2016/12/24/4958...   \n",
       "2016-12-24 12:40:00  http://www.npr.org/sections/thesalt/2016/12/24...   \n",
       "2016-12-24 13:53:00  http://www.npr.org/2016/12/24/506338057/white-...   \n",
       "\n",
       "                                                        processed_text  \\\n",
       "date_published                                                           \n",
       "2016-12-24 12:00:00  graeme_wood know journalist fool student islam...   \n",
       "2016-12-24 12:00:00  são paulo graveyard samba claim late brazilian...   \n",
       "2016-12-24 12:00:00  subscription box service generally boom fee co...   \n",
       "2016-12-24 12:40:00  editor note story originally publish oil the_e...   \n",
       "2016-12-24 13:53:00  the_affordable_care_act chopping block likely ...   \n",
       "\n",
       "                     num_authors author_null  hour_published  \n",
       "date_published                                                \n",
       "2016-12-24 12:00:00          1.0       False              12  \n",
       "2016-12-24 12:00:00          1.0       False              12  \n",
       "2016-12-24 12:00:00          1.0       False              12  \n",
       "2016-12-24 12:40:00          1.0       False              12  \n",
       "2016-12-24 13:53:00          1.0       False              13  "
      ]
     },
     "execution_count": 33,
     "metadata": {},
     "output_type": "execute_result"
    }
   ],
   "source": [
    "# Or we could reset or index and do it that way...\n",
    "df2 = df.set_index('date_published')\n",
    "df2.loc['2016-12-24 10:00:00': '2016-12-24 14:00:00', :]"
   ]
  },
  {
   "cell_type": "markdown",
   "metadata": {},
   "source": [
    "## Length of Articles (# Words)\n",
    "\n",
    "Maybe we are interested in looking at the distribution of how long our articles are..."
   ]
  },
  {
   "cell_type": "code",
   "execution_count": 34,
   "metadata": {
    "collapsed": true
   },
   "outputs": [],
   "source": [
    "df['num_words'] = df['article_text'].map(lambda x: len(x.split()))"
   ]
  },
  {
   "cell_type": "code",
   "execution_count": 35,
   "metadata": {
    "collapsed": false
   },
   "outputs": [
    {
     "data": {
      "text/plain": [
       "count    2275.000000\n",
       "mean      541.320440\n",
       "std       502.855345\n",
       "min         8.000000\n",
       "25%       160.000000\n",
       "50%       463.000000\n",
       "75%       753.000000\n",
       "max      8227.000000\n",
       "Name: num_words, dtype: float64"
      ]
     },
     "execution_count": 35,
     "metadata": {},
     "output_type": "execute_result"
    }
   ],
   "source": [
    "df['num_words'].describe()"
   ]
  },
  {
   "cell_type": "markdown",
   "metadata": {},
   "source": [
    "Let's create a histogram of the length of different articles..."
   ]
  },
  {
   "cell_type": "code",
   "execution_count": 36,
   "metadata": {
    "collapsed": false
   },
   "outputs": [
    {
     "data": {
      "image/png": "[encoded data removed]",
      "text/plain": [
       "<matplotlib.figure.Figure at 0x7f84718c2c50>"
      ]
     },
     "metadata": {},
     "output_type": "display_data"
    }
   ],
   "source": [
    "df['num_words'].hist(bins=20, alpha=0.75)\n",
    "plt.ylabel('Number of Articles Published')\n",
    "plt.xlabel('Length of Article');"
   ]
  },
  {
   "cell_type": "markdown",
   "metadata": {},
   "source": [
    "Clearly there are some outliers in this data.  Let's subset what we are plotting to cut out the top 2% of articles in terms of article length and see what the resulting histogram looks like...\n",
    "\n",
    "Refer to [the `numpy` percentile function](https://docs.scipy.org/doc/numpy-dev/reference/generated/numpy.percentile.html) for more information."
   ]
  },
  {
   "cell_type": "code",
   "execution_count": 37,
   "metadata": {
    "collapsed": false
   },
   "outputs": [
    {
     "data": {
      "image/png": "[encoded data removed]",
      "text/plain": [
       "<matplotlib.figure.Figure at 0x7f84717c87f0>"
      ]
     },
     "metadata": {},
     "output_type": "display_data"
    }
   ],
   "source": [
    "cutoff = np.percentile(df['num_words'], 98)\n",
    "\n",
    "df.loc[df['num_words'] <= cutoff, 'num_words'].hist(bins=20, alpha=0.75)\n",
    "plt.ylabel('Number of Articles Published')\n",
    "plt.xlabel('Length of Article');"
   ]
  },
  {
   "cell_type": "markdown",
   "metadata": {},
   "source": [
    "## Only rows that contain 'Obama' in the Headline\n",
    "\n",
    "We can also use standard string functions by using the `.str` functionality in `pandas`.  Take a look at [this page](http://pandas.pydata.org/pandas-docs/stable/text.html) for more information."
   ]
  },
  {
   "cell_type": "code",
   "execution_count": 38,
   "metadata": {
    "collapsed": false
   },
   "outputs": [
    {
     "data": {
      "text/plain": [
       "27     Obama Administration Appeals Judge's Ruling To...\n",
       "28     Obama Administration Appeals Judge's Ruling To...\n",
       "56     Only 26 Percent Of Americans Support Full Repe...\n",
       "125    For The Holidays, The Obamas Open Up The White...\n",
       "207    A Closer Look At Obama's Counterterrorism Stra...\n",
       "Name: headline, dtype: object"
      ]
     },
     "execution_count": 38,
     "metadata": {},
     "output_type": "execute_result"
    }
   ],
   "source": [
    "df.loc[df['headline'].str.contains('Obama'), 'headline'].head()"
   ]
  },
  {
   "cell_type": "markdown",
   "metadata": {},
   "source": [
    "## Looking at Average Hour Published by Section\n",
    "\n",
    "Maybe we have a hypothesis that different sections will vary in the time of day that they are publishing.  We could try and get a sense for this like so:"
   ]
  },
  {
   "cell_type": "code",
   "execution_count": 39,
   "metadata": {
    "collapsed": false
   },
   "outputs": [
    {
     "data": {
      "text/plain": [
       "section\n",
       "All Songs Considered    15.410714\n",
       "Around the Nation       14.869565\n",
       "Goats and Soda          16.803030\n",
       "Here And Now            19.143216\n",
       "Monkey See              15.547619\n",
       "Parallels               15.931818\n",
       "Politics                14.309392\n",
       "Shots - Health News     17.038835\n",
       "The Salt                17.013158\n",
       "The Two-Way             16.265136\n",
       "Name: hour_published, dtype: float64"
      ]
     },
     "execution_count": 39,
     "metadata": {},
     "output_type": "execute_result"
    }
   ],
   "source": [
    "# Let's subset to just the 10 most popular sections\n",
    "top_sections = df['section'].value_counts()[:10].index\n",
    "df_sub = df.loc[df['section'].isin(top_sections), :]\n",
    "\n",
    "# We are now grouping by the section and extracting the mean hour that articles were published\n",
    "df_sub.groupby('section')['hour_published'].mean()"
   ]
  }
 ],
 "metadata": {
  "kernelspec": {
   "display_name": "Python [default]",
   "language": "python",
   "name": "python3"
  },
  "language_info": {
   "codemirror_mode": {
    "name": "ipython",
    "version": 3
   },
   "file_extension": ".py",
   "mimetype": "text/x-python",
   "name": "python",
   "nbconvert_exporter": "python",
   "pygments_lexer": "ipython3",
   "version": "3.5.2"
  }
 },
 "nbformat": 4,
 "nbformat_minor": 2
}
